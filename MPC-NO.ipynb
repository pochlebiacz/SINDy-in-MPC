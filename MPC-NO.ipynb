{
 "cells": [
  {
   "cell_type": "code",
   "execution_count": null,
   "metadata": {},
   "outputs": [],
   "source": [
    "from generate_data import *\n",
    "from utils import *\n",
    "import numpy as np\n",
    "from scipy.optimize import minimize\n",
    "from numpy.linalg import norm\n",
    "import warnings\n",
    "warnings.filterwarnings(\"ignore\")\n",
    "\n",
    "global k, vk"
   ]
  },
  {
   "cell_type": "code",
   "execution_count": null,
   "metadata": {},
   "outputs": [],
   "source": [
    "Ts = 0.1\n",
    "\n",
    "N = 10\n",
    "Nu = 8\n",
    "Lambda = 5e-6\n",
    "\n",
    "# 1 - population, 2 - tracking, 3 - hiv\n",
    "process = 1"
   ]
  },
  {
   "cell_type": "code",
   "execution_count": null,
   "metadata": {},
   "outputs": [],
   "source": [
    "est = 'good' # good / mid / bad\n",
    "y_zad, fun, x, u, _, _, bds, umax, model = initialize(process, N, Nu, Ts, est)\n",
    "model.print(precision=int(3 - np.log10(Ts)))\n",
    "\n",
    "y_zad_N = np.vstack([y_zad, np.tile(y_zad[-1], (N, 1))])\n",
    "kmax, vk = len(y_zad), 0"
   ]
  },
  {
   "cell_type": "code",
   "execution_count": null,
   "metadata": {},
   "outputs": [],
   "source": [
    "def mpc_no(deltau, model=None, w=1):\n",
    "    u[k:k+Nu] = (np.tril(np.ones((Nu, Nu)), 0) @ deltau.reshape(-1, 1) + u[k-1] * np.ones((Nu,1))).reshape(-1)\n",
    "    u[k+Nu:k+N+1] = u[k+Nu-1]\n",
    "\n",
    "    if model is not None:\n",
    "        for p in range(N+1):\n",
    "            x[k+p] = model.simulate(x[k+p-1], t=2, u=np.array([u[k+p-1]]))[-1] + vk\n",
    "    else:\n",
    "        for p in range(N+1):\n",
    "            x[k+p] = fun(t=0, state=x[k+p-1], T=Ts, u=u[k+p-1])\n",
    "\n",
    "    return norm((y_zad_N[k]*w).reshape(-1, 1)*np.ones((1, N)) - (x[k+1:k+N+1]*w).T, 2) + Lambda * norm(deltau, 2)"
   ]
  },
  {
   "cell_type": "code",
   "execution_count": null,
   "metadata": {},
   "outputs": [],
   "source": [
    "state = x[0]\n",
    "w = [1, 0]\n",
    "\n",
    "for k in range(5, kmax):\n",
    "    xmod =  model.simulate(state, t=2, u=np.array([u[k-1]]))[-1]\n",
    "    state = fun(t=0, state=state, T=Ts, u=u[k-1])\n",
    "\n",
    "    x[k, :] = state\n",
    "\n",
    "    try:\n",
    "        opt = minimize(\n",
    "            mpc_no,\n",
    "            args=(None, w),\n",
    "            x0=np.zeros(Nu),\n",
    "            method='SLSQP',\n",
    "            bounds=[(-bds, bds)]*Nu,\n",
    "            options={'maxiter': 100, 'ftol': 1e-6}\n",
    "        )\n",
    "        du = opt.x[0]\n",
    "    except np.linalg.LinAlgError as e:\n",
    "        print(f\"Optimization failed due to: {e}\")\n",
    "        du = 0\n",
    "    \n",
    "    u[k] = u[k-1] + du\n",
    "    u[k] = np.clip(u[k], -100, 100)\n",
    "    vk = state - xmod"
   ]
  },
  {
   "cell_type": "code",
   "execution_count": null,
   "metadata": {},
   "outputs": [],
   "source": [
    "plot(y_zad, x, u, w, save=False)"
   ]
  }
 ],
 "metadata": {
  "kernelspec": {
   "display_name": "Python 3",
   "language": "python",
   "name": "python3"
  },
  "language_info": {
   "codemirror_mode": {
    "name": "ipython",
    "version": 3
   },
   "file_extension": ".py",
   "mimetype": "text/x-python",
   "name": "python",
   "nbconvert_exporter": "python",
   "pygments_lexer": "ipython3",
   "version": "3.11.4"
  }
 },
 "nbformat": 4,
 "nbformat_minor": 2
}
