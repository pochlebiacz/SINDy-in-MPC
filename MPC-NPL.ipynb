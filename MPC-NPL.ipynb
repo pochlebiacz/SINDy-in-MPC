{
 "cells": [
  {
   "cell_type": "code",
   "execution_count": null,
   "metadata": {},
   "outputs": [],
   "source": [
    "from generate_data import *\n",
    "from utils import *\n",
    "import numpy as np\n",
    "import cvxpy as cp\n",
    "import warnings\n",
    "warnings.filterwarnings(\"ignore\")\n",
    "\n",
    "global k, vk"
   ]
  },
  {
   "cell_type": "code",
   "execution_count": null,
   "metadata": {},
   "outputs": [],
   "source": [
    "Ts = 0.1\n",
    "\n",
    "N = 10\n",
    "Nu = 6\n",
    "Lambda = 5e-2\n",
    "\n",
    "# 1 - population, 2 - tracking, 3 - hiv\n",
    "process = 1"
   ]
  },
  {
   "cell_type": "code",
   "execution_count": null,
   "metadata": {},
   "outputs": [],
   "source": [
    "est = 'good' # good / mid / bad\n",
    "y_zad, fun, x, u, _, _, bds, umax, model = initialize(process, N, Nu, Ts, est)\n",
    "model.print(precision=int(3 - np.log10(Ts)))\n",
    "\n",
    "y_zad_N = np.vstack([y_zad, np.tile(y_zad[-1], (N, 1))])\n",
    "kmax, vk = len(y_zad), 0"
   ]
  },
  {
   "cell_type": "code",
   "execution_count": null,
   "id": "aa359079",
   "metadata": {},
   "outputs": [],
   "source": [
    "def mpc_npl(model, state_est, u_prev, w=1):\n",
    "    nx, nu = len(state_est), 1\n",
    "\n",
    "    A, B = linearize(model, state_est, u_prev)\n",
    "\n",
    "    P = np.zeros((nx*N, nu*Nu))\n",
    "    xo = np.zeros((N, nx))\n",
    "\n",
    "    for i in range(N):\n",
    "        for j in range(min(i+1, Nu)):\n",
    "            if i == j:\n",
    "                P[nx*i:nx*(i+1), nu*j:nu*(j+1)] = B\n",
    "            else:\n",
    "                P[nx*i:nx*(i+1), nu*j:nu*(j+1)] = A_sum(A, i-j) @ B\n",
    "        if i == 0:\n",
    "            xo[i, :] = model.simulate(state_est, t=2, u=np.array([u_prev]))[-1] + vk\n",
    "        else:\n",
    "            xo[i, :] = model.simulate(xo[i-1,:], t=2, u=np.array([u_prev]))[-1] + vk\n",
    "\n",
    "    C = np.eye(nx)\n",
    "    C_bar = np.kron(np.eye(N), C)\n",
    "    wx0 = (w * xo).reshape(-1, 1)\n",
    "    y0 = C_bar @ wx0\n",
    "    Yref = (w * y_zad_N[k] * np.ones((N, 1))).reshape(-1, 1)\n",
    "\n",
    "    du = cp.Variable((nu*Nu, 1))\n",
    "    cost = cp.sum_squares(Yref - C_bar @ P @ du - y0) + Lambda * cp.sum_squares(du)\n",
    "\n",
    "    prob = cp.Problem(cp.Minimize(cost), constraints=[du >= -bds, du <= bds])\n",
    "    prob.solve()\n",
    "\n",
    "    return du.value[0, 0]"
   ]
  },
  {
   "cell_type": "code",
   "execution_count": null,
   "id": "35e12b48",
   "metadata": {},
   "outputs": [],
   "source": [
    "state = x[0]\n",
    "w = [0, 1]\n",
    "\n",
    "for k in range(5, kmax):\n",
    "    xmod = model.simulate(state, t=2, u=np.array([u[k-1]]))[-1]\n",
    "    state = fun(t=0, state=state, T=Ts, u=u[k-1])\n",
    "\n",
    "    x[k, :] = state\n",
    "\n",
    "    try:\n",
    "        du = mpc_npl(model, state, u[k-1], w)\n",
    "    except Exception as e:\n",
    "        print(f\"NPL failed at step {k}: {e}\")\n",
    "        du = 0\n",
    "\n",
    "    u[k] = u[k-1] + du\n",
    "    u[k] = np.clip(u[k], -100, 100)\n",
    "    vk = state - xmod"
   ]
  },
  {
   "cell_type": "code",
   "execution_count": null,
   "metadata": {},
   "outputs": [],
   "source": [
    "plot(y_zad, x, u, w, save=False)"
   ]
  }
 ],
 "metadata": {
  "kernelspec": {
   "display_name": "Python 3",
   "language": "python",
   "name": "python3"
  },
  "language_info": {
   "codemirror_mode": {
    "name": "ipython",
    "version": 3
   },
   "file_extension": ".py",
   "mimetype": "text/x-python",
   "name": "python",
   "nbconvert_exporter": "python",
   "pygments_lexer": "ipython3",
   "version": "3.11.4"
  }
 },
 "nbformat": 4,
 "nbformat_minor": 2
}
