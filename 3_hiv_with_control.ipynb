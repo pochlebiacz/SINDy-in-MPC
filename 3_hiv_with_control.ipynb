{
 "cells": [
  {
   "cell_type": "code",
   "execution_count": null,
   "metadata": {},
   "outputs": [],
   "source": [
    "import numpy as np\n",
    "import pysindy as ps\n",
    "from pysindy.feature_library import PolynomialLibrary, FourierLibrary\n",
    "import matplotlib.pyplot as plt\n",
    "\n",
    "from generate_data import generate_hiv_data, generate_discrete_hiv_data"
   ]
  },
  {
   "cell_type": "code",
   "execution_count": null,
   "metadata": {},
   "outputs": [],
   "source": [
    "T = 1e-1\n",
    "t = np.linspace(0, 100, 1001)\n",
    "x0 = [1, 1, 1, 1, 1]\n",
    "x0_val = [2, 1, 2, 2, 3]\n",
    "\n",
    "u = lambda t: 0.1*np.sin(t)\n",
    "u_val = lambda t: 0.1*np.cos(2*t)\n",
    "\n",
    "x, x_dot = generate_hiv_data(t=t, x0=x0, u=u)\n",
    "x_val, _ = generate_hiv_data(t=t, x0=x0_val, u=u_val)\n",
    "\n",
    "xk = generate_discrete_hiv_data(t=t, x0=x0, T=T, u=u(t))\n",
    "xk_val = generate_discrete_hiv_data(t=t, x0=x0_val, T=T, u=u_val(t))"
   ]
  },
  {
   "cell_type": "code",
   "execution_count": null,
   "metadata": {},
   "outputs": [],
   "source": [
    "model = ps.SINDy(\n",
    "    feature_library=PolynomialLibrary(degree=3), # 2, 1\n",
    "    # feature_library=FourierLibrary(n_frequencies=1), # 2, 1\n",
    "    optimizer=ps.STLSQ(threshold=1e-4), # 0.001, 0.01, 0.1\n",
    "    feature_names=[f'x{i+1}' for i in range(len(x[0]))]+['u'],\n",
    "    discrete_time=True\n",
    "    )\n",
    "model.fit(x=xk, u=u(t))\n",
    "# model.fit(x=x, x_dot=x_dot, t=t, u=u(t))\n",
    "model.print()"
   ]
  },
  {
   "cell_type": "code",
   "execution_count": null,
   "metadata": {},
   "outputs": [],
   "source": [
    "x_sim = model.simulate(x0=x0_val, t=len(t), u=u_val(t))\n",
    "mse = ((x_sim - xk_val)**2).mean(axis=0)\n",
    "mse"
   ]
  },
  {
   "cell_type": "code",
   "execution_count": null,
   "metadata": {},
   "outputs": [],
   "source": [
    "fig, axs = plt.subplots(6, 1, figsize=(10, 18), sharex=True)\n",
    "\n",
    "labels_true = [\n",
    "    \"Zdrowe CD4+\", \"Zainfekowane CD4+\", \"Prekursory LTC\",\n",
    "    \"Pomocniczo-niezależne LTC\", \"Pomocniczo-zależne LTC\"]\n",
    "\n",
    "labels_model = [\n",
    "    \"Model zdrowych CD4+\", \"Model zainfekowanych CD4+\", \"Model prekursorów LTC\",\n",
    "    \"Model pomocniczo-niezależnych LTC\", \"Model pomocniczo-zależnych LTC\"]\n",
    "\n",
    "for i in range(5):\n",
    "    axs[i].plot(t, xk_val[:, i], label=labels_true[i], color=f\"C{2*i}\")\n",
    "    axs[i].plot(t, x_sim[:, i], '--', label=labels_model[i], color=f\"C{2*i+1}\")\n",
    "    axs[i].set_ylabel(\"Stężenie\", fontsize=16)\n",
    "    axs[i].legend(fontsize=14)\n",
    "    axs[i].grid()\n",
    "    axs[i].tick_params(axis='both', labelsize=14)\n",
    "\n",
    "axs[5].plot(t, u_val(t), 'g--', alpha=0.7)\n",
    "axs[5].set_ylabel(\"Sterowanie\", fontsize=16)\n",
    "axs[5].set_xlabel(\"Czas [dni]\", fontsize=16)\n",
    "axs[5].grid()\n",
    "axs[5].tick_params(axis='both', labelsize=14)\n",
    "\n",
    "plt.xlim(0, max(t))\n",
    "plt.tight_layout()\n",
    "plt.show()"
   ]
  }
 ],
 "metadata": {
  "kernelspec": {
   "display_name": "Python 3",
   "language": "python",
   "name": "python3"
  },
  "language_info": {
   "codemirror_mode": {
    "name": "ipython",
    "version": 3
   },
   "file_extension": ".py",
   "mimetype": "text/x-python",
   "name": "python",
   "nbconvert_exporter": "python",
   "pygments_lexer": "ipython3",
   "version": "3.11.4"
  }
 },
 "nbformat": 4,
 "nbformat_minor": 2
}
