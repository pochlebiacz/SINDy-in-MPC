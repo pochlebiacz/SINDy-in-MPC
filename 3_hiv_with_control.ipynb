{
 "cells": [
  {
   "cell_type": "code",
   "execution_count": 24,
   "metadata": {},
   "outputs": [],
   "source": [
    "import numpy as np\n",
    "import pysindy as ps\n",
    "from pysindy.feature_library import PolynomialLibrary, FourierLibrary, CustomLibrary\n",
    "import matplotlib.pyplot as plt\n",
    "\n",
    "from generate_data import generate_hiv_data, generate_discrete_hiv_data\n",
    "from decimal import Decimal"
   ]
  },
  {
   "cell_type": "code",
   "execution_count": 25,
   "metadata": {},
   "outputs": [],
   "source": [
    "T = 1e-1\n",
    "t = np.linspace(0, 100, 1001)\n",
    "x0 = [1, 1, 1, 1, 1]\n",
    "x0_val = [2, 1, 2, 2, 3]\n",
    "\n",
    "u = lambda t: 0.1*np.sin(t)\n",
    "u_val = lambda t: 0.1*np.cos(2*t)\n",
    "\n",
    "x, x_dot = generate_hiv_data(t=t, x0=x0, u=u)\n",
    "x_val, _ = generate_hiv_data(t=t, x0=x0_val, u=u_val)\n",
    "\n",
    "xk = generate_discrete_hiv_data(t=t, x0=x0, T=T, u=u(t))\n",
    "xk_val = generate_discrete_hiv_data(t=t, x0=x0_val, T=T, u=u_val(t))"
   ]
  },
  {
   "cell_type": "code",
   "execution_count": 26,
   "metadata": {},
   "outputs": [
    {
     "name": "stdout",
     "output_type": "stream",
     "text": [
      "(x1)[k+1] = 0.100 1 + 0.990 x1[k] + -0.100 x1[k] x2[k] + 0.098 x1[k] x2[k] u[k]\n",
      "(x2)[k+1] = 0.980 x2[k] + 0.100 x1[k] x2[k] + -0.100 x2[k] x4[k] + -0.100 x2[k] x5[k] + -0.098 x1[k] x2[k] u[k]\n",
      "(x3)[k+1] = 0.999 x3[k] + -0.003 x2[k] x3[k] + 0.006 x1[k] x2[k] x3[k]\n",
      "(x4)[k+1] = 0.990 x4[k] + 0.003 x2[k] x4[k]\n",
      "(x5)[k+1] = 0.990 x5[k] + 0.003 x2[k] x3[k]\n"
     ]
    }
   ],
   "source": [
    "model = ps.SINDy(\n",
    "    feature_library=PolynomialLibrary(degree=3), # 2, 1\n",
    "    # feature_library=FourierLibrary(n_frequencies=1), # 2, 1\n",
    "    optimizer=ps.STLSQ(threshold=0.00001), # 0.001, 0.01, 0.1\n",
    "    feature_names=[f'x{i+1}' for i in range(len(x[0]))]+['u'],\n",
    "    discrete_time=True)\n",
    "model.fit(x=xk, u=u(t))\n",
    "model.print()"
   ]
  },
  {
   "cell_type": "code",
   "execution_count": 27,
   "metadata": {},
   "outputs": [
    {
     "name": "stdout",
     "output_type": "stream",
     "text": [
      "Biblioteka funkcji & Próg & $\\Dot{x}_1$ & $E_1$ \\\\\n",
      "\\hline\n",
      "Trygonometryczna (st. 2) & 0,001 & $-1,354\\cdot 10^{-1} \\sin(x_1) - 1,322 \\cos(x_1)\\dots$ & $7,515$ \\\\\n",
      "Trygonometryczna (st. 2) & 0,010000000000000002 & $-3,654\\cdot 10^{-2} \\sin(x_1) - 1,336 \\cos(x_1)\\dots$ & $7,350\\cdot 10^1$ \\\\\n",
      "Trygonometryczna (st. 2) & 0,1 & $-1,334 \\cos(x_1) - 2,387 \\sin(x_2)\\dots$ & $8,241\\cdot 10^{-1}$ \\\\\n",
      "\\hline\n",
      "Trygonometryczna (st. 1) & 0,001 & $-3,093\\cdot 10^{-3} \\sin(x_1) - 1,023 \\cos(x_1)\\dots$ & $9,072\\cdot 10^{-1}$ \\\\\n",
      "Trygonometryczna (st. 1) & 0,010000000000000002 & $-1,020 \\cos(x_1) - 7,053\\cdot 10^{-2} \\sin(x_2)\\dots$ & $5,294\\cdot 10^{-1}$ \\\\\n",
      "Trygonometryczna (st. 1) & 0,1 & $-1,001 \\cos(x_1) + 2,530\\cdot 10^{-1} \\cos(x_2)\\dots$ & $9,495\\cdot 10^{-1}$ \\\\\n",
      "\\hline\n",
      "Wielomiany (st. 3) & 1e-05 & $1,000\\cdot 10^{-1} + 9,900\\cdot 10^{-1} x_1\\dots$ & $1,082E-10$ \\\\\n",
      "Wielomiany (st. 3) & 0,0001 & $1,000\\cdot 10^{-1} + 9,900\\cdot 10^{-1} x_1\\dots$ & $9,832E-12$ \\\\\n",
      "Wielomiany (st. 3) & 0,001 & $1,000\\cdot 10^{-1} + 9,900\\cdot 10^{-1} x_1\\dots$ & $1,763E-10$ \\\\\n",
      "\\hline\n",
      "Wielomiany (st. 2) & 1e-05 & $3,191\\cdot 10^{-1} + 9,543\\cdot 10^{-1} x_1\\dots$ & $\\infty$ \\\\\n",
      "Wielomiany (st. 2) & 0,0001 & $3,191\\cdot 10^{-1} + 9,543\\cdot 10^{-1} x_1\\dots$ & $\\infty$ \\\\\n",
      "Wielomiany (st. 2) & 0,001 & $3,191\\cdot 10^{-1} + 9,543\\cdot 10^{-1} x_1\\dots$ & $\\infty$ \\\\\n",
      "\\hline\n"
     ]
    },
    {
     "name": "stderr",
     "output_type": "stream",
     "text": [
      "c:\\Users\\ASamek.ERP\\AppData\\Local\\Programs\\Python\\Python311\\Lib\\site-packages\\pysindy\\utils\\axes.py:83: RuntimeWarning: overflow encountered in reduce\n",
      "  results = super().__array_ufunc__(ufunc, method, *args, **kwargs)\n",
      "c:\\Users\\ASamek.ERP\\AppData\\Local\\Programs\\Python\\Python311\\Lib\\site-packages\\numpy\\core\\fromnumeric.py:86: RuntimeWarning: invalid value encountered in reduce\n",
      "  return ufunc.reduce(obj, axis, dtype, out, **passkwargs)\n",
      "c:\\Users\\ASamek.ERP\\AppData\\Local\\Programs\\Python\\Python311\\Lib\\site-packages\\pysindy\\utils\\axes.py:83: RuntimeWarning: overflow encountered in reduce\n",
      "  results = super().__array_ufunc__(ufunc, method, *args, **kwargs)\n",
      "c:\\Users\\ASamek.ERP\\AppData\\Local\\Programs\\Python\\Python311\\Lib\\site-packages\\numpy\\core\\fromnumeric.py:86: RuntimeWarning: invalid value encountered in reduce\n",
      "  return ufunc.reduce(obj, axis, dtype, out, **passkwargs)\n",
      "c:\\Users\\ASamek.ERP\\AppData\\Local\\Programs\\Python\\Python311\\Lib\\site-packages\\pysindy\\utils\\axes.py:83: RuntimeWarning: overflow encountered in reduce\n",
      "  results = super().__array_ufunc__(ufunc, method, *args, **kwargs)\n",
      "c:\\Users\\ASamek.ERP\\AppData\\Local\\Programs\\Python\\Python311\\Lib\\site-packages\\numpy\\core\\fromnumeric.py:86: RuntimeWarning: invalid value encountered in reduce\n",
      "  return ufunc.reduce(obj, axis, dtype, out, **passkwargs)\n"
     ]
    },
    {
     "name": "stdout",
     "output_type": "stream",
     "text": [
      "Liniowa & 1e-05 & $2,624\\cdot 10^{-1} + 9,198\\cdot 10^{-1} x_1\\dots$ & $2,636\\cdot 10^{-1}$ \\\\\n",
      "Liniowa & 0,0001 & $2,624\\cdot 10^{-1} + 9,198\\cdot 10^{-1} x_1\\dots$ & $2,636\\cdot 10^{-1}$ \\\\\n",
      "Liniowa & 0,001 & $2,624\\cdot 10^{-1} + 9,198\\cdot 10^{-1} x_1\\dots$ & $3,492\\cdot 10^{-1}$ \\\\\n",
      "\n",
      "\n",
      "\n",
      "Biblioteka funkcji & Próg & $\\Dot{x}_2$ & $E_2$ \\\\\n",
      "\\hline\n",
      "Trygonometryczna (st. 2) & 0,001 & $2,058\\cdot 10^{-1} \\sin(x_1) - 2,823\\cdot 10^{-2} \\cos(x_1)\\dots$ & $1,439\\cdot 10^1$ \\\\\n",
      "Trygonometryczna (st. 2) & 0,010000000000000002 & $1,264\\cdot 10^{-1} \\sin(x_1) - 1,114\\cdot 10^{-1} \\cos(x_1)\\dots$ & $1,091\\cdot 10^2$ \\\\\n",
      "Trygonometryczna (st. 2) & 0,1 & $6,967\\cdot 10^{-1} \\sin(x_2) - 6,941\\cdot 10^{-1} \\cos(x_2)\\dots$ & $2,702\\cdot 10^{-1}$ \\\\\n",
      "\\hline\n",
      "Trygonometryczna (st. 1) & 0,001 & $6,788\\cdot 10^{-2} \\sin(x_1) - 4,740\\cdot 10^{-2} \\cos(x_1)\\dots$ & $2,132\\cdot 10^{-1}$ \\\\\n",
      "Trygonometryczna (st. 1) & 0,010000000000000002 & $7,715\\cdot 10^{-2} \\sin(x_1) - 5,472\\cdot 10^{-2} \\cos(x_1)\\dots$ & $8,183\\cdot 10^{-2}$ \\\\\n",
      "Trygonometryczna (st. 1) & 0,1 & $7,814\\cdot 10^{-1} \\sin(x_2) - 6,567\\cdot 10^{-1} \\cos(x_2)\\dots$ & $1,535\\cdot 10^{-1}$ \\\\\n",
      "\\hline\n",
      "Wielomiany (st. 3) & 1e-05 & $9,800\\cdot 10^{-1} x_2 + 1,000\\cdot 10^{-1} x_1 x_2\\dots$ & $2,130E-11$ \\\\\n",
      "Wielomiany (st. 3) & 0,0001 & $9,800\\cdot 10^{-1} x_2 + 1,000\\cdot 10^{-1} x_1 x_2\\dots$ & $2,515E-12$ \\\\\n",
      "Wielomiany (st. 3) & 0,001 & $9,800\\cdot 10^{-1} x_2 + 1,000\\cdot 10^{-1} x_1 x_2\\dots$ & $4,005E-11$ \\\\\n",
      "\\hline\n",
      "Wielomiany (st. 2) & 1e-05 & $-2,191\\cdot 10^{-1} + 3,568\\cdot 10^{-2} x_1\\dots$ & $\\infty$ \\\\\n",
      "Wielomiany (st. 2) & 0,0001 & $-2,191\\cdot 10^{-1} + 3,568\\cdot 10^{-2} x_1\\dots$ & $\\infty$ \\\\\n",
      "Wielomiany (st. 2) & 0,001 & $-2,191\\cdot 10^{-1} + 3,568\\cdot 10^{-2} x_1\\dots$ & $\\infty$ \\\\\n",
      "\\hline\n"
     ]
    },
    {
     "name": "stderr",
     "output_type": "stream",
     "text": [
      "c:\\Users\\ASamek.ERP\\AppData\\Local\\Programs\\Python\\Python311\\Lib\\site-packages\\pysindy\\utils\\axes.py:83: RuntimeWarning: overflow encountered in reduce\n",
      "  results = super().__array_ufunc__(ufunc, method, *args, **kwargs)\n",
      "c:\\Users\\ASamek.ERP\\AppData\\Local\\Programs\\Python\\Python311\\Lib\\site-packages\\numpy\\core\\fromnumeric.py:86: RuntimeWarning: invalid value encountered in reduce\n",
      "  return ufunc.reduce(obj, axis, dtype, out, **passkwargs)\n",
      "c:\\Users\\ASamek.ERP\\AppData\\Local\\Programs\\Python\\Python311\\Lib\\site-packages\\pysindy\\utils\\axes.py:83: RuntimeWarning: overflow encountered in reduce\n",
      "  results = super().__array_ufunc__(ufunc, method, *args, **kwargs)\n",
      "c:\\Users\\ASamek.ERP\\AppData\\Local\\Programs\\Python\\Python311\\Lib\\site-packages\\numpy\\core\\fromnumeric.py:86: RuntimeWarning: invalid value encountered in reduce\n",
      "  return ufunc.reduce(obj, axis, dtype, out, **passkwargs)\n",
      "c:\\Users\\ASamek.ERP\\AppData\\Local\\Programs\\Python\\Python311\\Lib\\site-packages\\pysindy\\utils\\axes.py:83: RuntimeWarning: overflow encountered in reduce\n",
      "  results = super().__array_ufunc__(ufunc, method, *args, **kwargs)\n",
      "c:\\Users\\ASamek.ERP\\AppData\\Local\\Programs\\Python\\Python311\\Lib\\site-packages\\numpy\\core\\fromnumeric.py:86: RuntimeWarning: invalid value encountered in reduce\n",
      "  return ufunc.reduce(obj, axis, dtype, out, **passkwargs)\n"
     ]
    },
    {
     "name": "stdout",
     "output_type": "stream",
     "text": [
      "Liniowa & 1e-05 & $-9,099\\cdot 10^{-3} + 5,833\\cdot 10^{-2} x_1\\dots$ & $6,653\\cdot 10^{-1}$ \\\\\n",
      "Liniowa & 0,0001 & $-9,099\\cdot 10^{-3} + 5,833\\cdot 10^{-2} x_1\\dots$ & $6,653\\cdot 10^{-1}$ \\\\\n",
      "Liniowa & 0,001 & $-4,305\\cdot 10^{-3} + 5,783\\cdot 10^{-2} x_1\\dots$ & $7,196\\cdot 10^{-1}$ \\\\\n",
      "\n",
      "\n",
      "\n",
      "Biblioteka funkcji & Próg & $\\Dot{x}_3$ & $E_3$ \\\\\n",
      "\\hline\n",
      "Trygonometryczna (st. 2) & 0,001 & $5,514\\cdot 10^{-2} \\sin(x_1) + 3,706\\cdot 10^{-2} \\cos(x_1)\\dots$ & $3,106\\cdot 10^1$ \\\\\n",
      "Trygonometryczna (st. 2) & 0,010000000000000002 & $5,514\\cdot 10^{-2} \\sin(x_1) + 3,706\\cdot 10^{-2} \\cos(x_1)\\dots$ & $2,022\\cdot 10^4$ \\\\\n",
      "Trygonometryczna (st. 2) & 0,1 & $1,218\\cdot 10^{-1} \\sin(x_1) + 6,692\\cdot 10^{-1} \\sin(x_2)\\dots$ & $4,877\\cdot 10^1$ \\\\\n",
      "\\hline\n",
      "Trygonometryczna (st. 1) & 0,001 & $4,426\\cdot 10^{-1} \\sin(x_1) - 6,188\\cdot 10^{-2} \\cos(x_1)\\dots$ & $4,828\\cdot 10^1$ \\\\\n",
      "Trygonometryczna (st. 1) & 0,010000000000000002 & $4,426\\cdot 10^{-1} \\sin(x_1) - 6,188\\cdot 10^{-2} \\cos(x_1)\\dots$ & $3,542\\cdot 10^1$ \\\\\n",
      "Trygonometryczna (st. 1) & 0,1 & $4,244\\cdot 10^{-1} \\sin(x_1) + 2,491\\cdot 10^{-1} \\cos(x_2)\\dots$ & $5,677\\cdot 10^1$ \\\\\n",
      "\\hline\n",
      "Wielomiany (st. 3) & 1e-05 & $9,990\\cdot 10^{-1} x_3 - 3,000\\cdot 10^{-3} x_2 x_3\\dots$ & $2,443\\cdot 10^{-8}$ \\\\\n",
      "Wielomiany (st. 3) & 0,0001 & $9,990\\cdot 10^{-1} x_3 - 3,000\\cdot 10^{-3} x_2 x_3\\dots$ & $8,940E-11$ \\\\\n",
      "Wielomiany (st. 3) & 0,001 & $9,990\\cdot 10^{-1} x_3 - 3,000\\cdot 10^{-3} x_2 x_3\\dots$ & $1,499E-10$ \\\\\n",
      "\\hline\n",
      "Wielomiany (st. 2) & 1e-05 & $1,112\\cdot 10^{-2} + 2,091\\cdot 10^{-3} x_1\\dots$ & $\\infty$ \\\\\n",
      "Wielomiany (st. 2) & 0,0001 & $1,112\\cdot 10^{-2} + 2,091\\cdot 10^{-3} x_1\\dots$ & $\\infty$ \\\\\n",
      "Wielomiany (st. 2) & 0,001 & $1,112\\cdot 10^{-2} + 2,091\\cdot 10^{-3} x_1\\dots$ & $\\infty$ \\\\\n",
      "\\hline\n"
     ]
    },
    {
     "name": "stderr",
     "output_type": "stream",
     "text": [
      "c:\\Users\\ASamek.ERP\\AppData\\Local\\Programs\\Python\\Python311\\Lib\\site-packages\\pysindy\\utils\\axes.py:83: RuntimeWarning: overflow encountered in reduce\n",
      "  results = super().__array_ufunc__(ufunc, method, *args, **kwargs)\n",
      "c:\\Users\\ASamek.ERP\\AppData\\Local\\Programs\\Python\\Python311\\Lib\\site-packages\\numpy\\core\\fromnumeric.py:86: RuntimeWarning: invalid value encountered in reduce\n",
      "  return ufunc.reduce(obj, axis, dtype, out, **passkwargs)\n",
      "c:\\Users\\ASamek.ERP\\AppData\\Local\\Programs\\Python\\Python311\\Lib\\site-packages\\pysindy\\utils\\axes.py:83: RuntimeWarning: overflow encountered in reduce\n",
      "  results = super().__array_ufunc__(ufunc, method, *args, **kwargs)\n",
      "c:\\Users\\ASamek.ERP\\AppData\\Local\\Programs\\Python\\Python311\\Lib\\site-packages\\numpy\\core\\fromnumeric.py:86: RuntimeWarning: invalid value encountered in reduce\n",
      "  return ufunc.reduce(obj, axis, dtype, out, **passkwargs)\n",
      "c:\\Users\\ASamek.ERP\\AppData\\Local\\Programs\\Python\\Python311\\Lib\\site-packages\\pysindy\\utils\\axes.py:83: RuntimeWarning: overflow encountered in reduce\n",
      "  results = super().__array_ufunc__(ufunc, method, *args, **kwargs)\n",
      "c:\\Users\\ASamek.ERP\\AppData\\Local\\Programs\\Python\\Python311\\Lib\\site-packages\\numpy\\core\\fromnumeric.py:86: RuntimeWarning: invalid value encountered in reduce\n",
      "  return ufunc.reduce(obj, axis, dtype, out, **passkwargs)\n"
     ]
    },
    {
     "name": "stdout",
     "output_type": "stream",
     "text": [
      "Liniowa & 1e-05 & $-1,962\\cdot 10^{-2} + 6,663\\cdot 10^{-3} x_1\\dots$ & $4,125\\cdot 10^{-1}$ \\\\\n",
      "Liniowa & 0,0001 & $-1,962\\cdot 10^{-2} + 6,663\\cdot 10^{-3} x_1\\dots$ & $4,125\\cdot 10^{-1}$ \\\\\n",
      "Liniowa & 0,001 & $-1,962\\cdot 10^{-2} + 6,663\\cdot 10^{-3} x_1\\dots$ & $2,413\\cdot 10^{-1}$ \\\\\n",
      "\n",
      "\n",
      "\n",
      "Biblioteka funkcji & Próg & $\\Dot{x}_4$ & $E_4$ \\\\\n",
      "\\hline\n",
      "Trygonometryczna (st. 2) & 0,001 & $-1,420\\cdot 10^{-3} \\sin(x_1) + 1,478\\cdot 10^{-3} \\sin(x_2)\\dots$ & $1,219\\cdot 10^{-1}$ \\\\\n",
      "Trygonometryczna (st. 2) & 0,010000000000000002 & $-1,832\\cdot 10^{-2} \\sin(x_2) - 2,431\\cdot 10^{-2} \\cos(x_2)\\dots$ & $9,300$ \\\\\n",
      "Trygonometryczna (st. 2) & 0,1 & $1,493 \\sin(x_4) - 2,438\\cdot 10^{-1} \\sin(2 x_4)$ & $8,369\\cdot 10^{-2}$ \\\\\n",
      "\\hline\n",
      "Trygonometryczna (st. 1) & 0,001 & $3,059\\cdot 10^{-3} \\cos(x_1) - 4,760\\cdot 10^{-3} \\cos(x_2)\\dots$ & $2,836\\cdot 10^{-2}$ \\\\\n",
      "Trygonometryczna (st. 1) & 0,010000000000000002 & $8,938\\cdot 10^{-1} \\sin(x_4) - 5,049\\cdot 10^{-1} \\cos(x_4)\\dots$ & $5,032\\cdot 10^{-2}$ \\\\\n",
      "Trygonometryczna (st. 1) & 0,1 & $9,373\\cdot 10^{-1} \\sin(x_4) - 4,025\\cdot 10^{-1} \\cos(x_4)\\dots$ & $3,656\\cdot 10^{-1}$ \\\\\n",
      "\\hline\n",
      "Wielomiany (st. 3) & 1e-05 & $9,900\\cdot 10^{-1} x_4 + 3,000\\cdot 10^{-3} x_2 x_4$ & $8,500E-13$ \\\\\n",
      "Wielomiany (st. 3) & 0,0001 & $9,900\\cdot 10^{-1} x_4 + 3,000\\cdot 10^{-3} x_2 x_4$ & $7,144E-13$ \\\\\n",
      "Wielomiany (st. 3) & 0,001 & $9,900\\cdot 10^{-1} x_4 + 3,000\\cdot 10^{-3} x_2 x_4$ & $1,951E-14$ \\\\\n",
      "\\hline\n",
      "Wielomiany (st. 2) & 1e-05 & $9,900\\cdot 10^{-1} x_4 + 3,000\\cdot 10^{-3} x_2 x_4$ & $\\infty$ \\\\\n",
      "Wielomiany (st. 2) & 0,0001 & $9,900\\cdot 10^{-1} x_4 + 3,000\\cdot 10^{-3} x_2 x_4$ & $\\infty$ \\\\\n",
      "Wielomiany (st. 2) & 0,001 & $9,900\\cdot 10^{-1} x_4 + 3,000\\cdot 10^{-3} x_2 x_4$ & $\\infty$ \\\\\n",
      "\\hline\n"
     ]
    },
    {
     "name": "stderr",
     "output_type": "stream",
     "text": [
      "c:\\Users\\ASamek.ERP\\AppData\\Local\\Programs\\Python\\Python311\\Lib\\site-packages\\pysindy\\utils\\axes.py:83: RuntimeWarning: overflow encountered in reduce\n",
      "  results = super().__array_ufunc__(ufunc, method, *args, **kwargs)\n",
      "c:\\Users\\ASamek.ERP\\AppData\\Local\\Programs\\Python\\Python311\\Lib\\site-packages\\numpy\\core\\fromnumeric.py:86: RuntimeWarning: invalid value encountered in reduce\n",
      "  return ufunc.reduce(obj, axis, dtype, out, **passkwargs)\n",
      "c:\\Users\\ASamek.ERP\\AppData\\Local\\Programs\\Python\\Python311\\Lib\\site-packages\\pysindy\\utils\\axes.py:83: RuntimeWarning: overflow encountered in reduce\n",
      "  results = super().__array_ufunc__(ufunc, method, *args, **kwargs)\n",
      "c:\\Users\\ASamek.ERP\\AppData\\Local\\Programs\\Python\\Python311\\Lib\\site-packages\\numpy\\core\\fromnumeric.py:86: RuntimeWarning: invalid value encountered in reduce\n",
      "  return ufunc.reduce(obj, axis, dtype, out, **passkwargs)\n",
      "c:\\Users\\ASamek.ERP\\AppData\\Local\\Programs\\Python\\Python311\\Lib\\site-packages\\pysindy\\utils\\axes.py:83: RuntimeWarning: overflow encountered in reduce\n",
      "  results = super().__array_ufunc__(ufunc, method, *args, **kwargs)\n",
      "c:\\Users\\ASamek.ERP\\AppData\\Local\\Programs\\Python\\Python311\\Lib\\site-packages\\numpy\\core\\fromnumeric.py:86: RuntimeWarning: invalid value encountered in reduce\n",
      "  return ufunc.reduce(obj, axis, dtype, out, **passkwargs)\n"
     ]
    },
    {
     "name": "stdout",
     "output_type": "stream",
     "text": [
      "Liniowa & 1e-05 & $-2,746\\cdot 10^{-3} + 2,748\\cdot 10^{-4} x_1\\dots$ & $1,018\\cdot 10^{-3}$ \\\\\n",
      "Liniowa & 0,0001 & $-2,746\\cdot 10^{-3} + 2,748\\cdot 10^{-4} x_1\\dots$ & $1,018\\cdot 10^{-3}$ \\\\\n",
      "Liniowa & 0,001 & $-1,928\\cdot 10^{-3} + 1,724\\cdot 10^{-3} x_2\\dots$ & $3,866\\cdot 10^{-4}$ \\\\\n",
      "\n",
      "\n",
      "\n",
      "Biblioteka funkcji & Próg & $\\Dot{x}_5$ & $E_5$ \\\\\n",
      "\\hline\n",
      "Trygonometryczna (st. 2) & 0,001 & $1,949\\cdot 10^{-2} \\sin(x_1) - 2,415\\cdot 10^{-3} \\sin(x_2)\\dots$ & $1,708$ \\\\\n",
      "Trygonometryczna (st. 2) & 0,010000000000000002 & $1,132\\cdot 10^{-1} \\sin(x_2) + 1,291\\cdot 10^{-1} \\cos(x_2)\\dots$ & $1,016\\cdot 10^1$ \\\\\n",
      "Trygonometryczna (st. 2) & 0,1 & $4,639\\cdot 10^{-1} \\sin(x_5) + 4,605\\cdot 10^{-1} \\cos(u)\\dots$ & $8,397\\cdot 10^{-1}$ \\\\\n",
      "\\hline\n",
      "Trygonometryczna (st. 1) & 0,001 & $2,241\\cdot 10^{-3} \\sin(x_1) + 3,493\\cdot 10^{-3} \\cos(x_1)\\dots$ & $5,342\\cdot 10^{-1}$ \\\\\n",
      "Trygonometryczna (st. 1) & 0,010000000000000002 & $7,951\\cdot 10^{-1} \\sin(x_5) - 6,184\\cdot 10^{-1} \\cos(x_5)\\dots$ & $3,084\\cdot 10^{-1}$ \\\\\n",
      "Trygonometryczna (st. 1) & 0,1 & $7,951\\cdot 10^{-1} \\sin(x_5) - 6,184\\cdot 10^{-1} \\cos(x_5)\\dots$ & $3,084\\cdot 10^{-1}$ \\\\\n",
      "\\hline\n",
      "Wielomiany (st. 3) & 1e-05 & $9,900\\cdot 10^{-1} x_5 + 3,000\\cdot 10^{-3} x_2 x_3$ & $9,192E-11$ \\\\\n",
      "Wielomiany (st. 3) & 0,0001 & $9,900\\cdot 10^{-1} x_5 + 3,000\\cdot 10^{-3} x_2 x_3$ & $1,852E-12$ \\\\\n",
      "Wielomiany (st. 3) & 0,001 & $9,900\\cdot 10^{-1} x_5 + 3,000\\cdot 10^{-3} x_2 x_3$ & $6,878E-13$ \\\\\n",
      "\\hline\n",
      "Wielomiany (st. 2) & 1e-05 & $9,900\\cdot 10^{-1} x_5 + 3,000\\cdot 10^{-3} x_2 x_3$ & $\\infty$ \\\\\n",
      "Wielomiany (st. 2) & 0,0001 & $9,900\\cdot 10^{-1} x_5 + 3,000\\cdot 10^{-3} x_2 x_3$ & $\\infty$ \\\\\n",
      "Wielomiany (st. 2) & 0,001 & $9,900\\cdot 10^{-1} x_5 + 3,000\\cdot 10^{-3} x_2 x_3$ & $\\infty$ \\\\\n",
      "\\hline\n"
     ]
    },
    {
     "name": "stderr",
     "output_type": "stream",
     "text": [
      "c:\\Users\\ASamek.ERP\\AppData\\Local\\Programs\\Python\\Python311\\Lib\\site-packages\\pysindy\\utils\\axes.py:83: RuntimeWarning: overflow encountered in reduce\n",
      "  results = super().__array_ufunc__(ufunc, method, *args, **kwargs)\n",
      "c:\\Users\\ASamek.ERP\\AppData\\Local\\Programs\\Python\\Python311\\Lib\\site-packages\\numpy\\core\\fromnumeric.py:86: RuntimeWarning: invalid value encountered in reduce\n",
      "  return ufunc.reduce(obj, axis, dtype, out, **passkwargs)\n",
      "c:\\Users\\ASamek.ERP\\AppData\\Local\\Programs\\Python\\Python311\\Lib\\site-packages\\pysindy\\utils\\axes.py:83: RuntimeWarning: overflow encountered in reduce\n",
      "  results = super().__array_ufunc__(ufunc, method, *args, **kwargs)\n",
      "c:\\Users\\ASamek.ERP\\AppData\\Local\\Programs\\Python\\Python311\\Lib\\site-packages\\numpy\\core\\fromnumeric.py:86: RuntimeWarning: invalid value encountered in reduce\n",
      "  return ufunc.reduce(obj, axis, dtype, out, **passkwargs)\n",
      "c:\\Users\\ASamek.ERP\\AppData\\Local\\Programs\\Python\\Python311\\Lib\\site-packages\\pysindy\\utils\\axes.py:83: RuntimeWarning: overflow encountered in reduce\n",
      "  results = super().__array_ufunc__(ufunc, method, *args, **kwargs)\n",
      "c:\\Users\\ASamek.ERP\\AppData\\Local\\Programs\\Python\\Python311\\Lib\\site-packages\\numpy\\core\\fromnumeric.py:86: RuntimeWarning: invalid value encountered in reduce\n",
      "  return ufunc.reduce(obj, axis, dtype, out, **passkwargs)\n"
     ]
    },
    {
     "name": "stdout",
     "output_type": "stream",
     "text": [
      "Liniowa & 1e-05 & $-2,263\\cdot 10^{-5} - 6,125\\cdot 10^{-4} x_1\\dots$ & $9,006\\cdot 10^{-2}$ \\\\\n",
      "Liniowa & 0,0001 & $-6,125\\cdot 10^{-4} x_1 + 2,184\\cdot 10^{-3} x_2\\dots$ & $9,006\\cdot 10^{-2}$ \\\\\n",
      "Liniowa & 0,001 & $-4,070\\cdot 10^{-3} + 4,746\\cdot 10^{-3} x_2\\dots$ & $1,475\\cdot 10^{-1}$ \\\\\n",
      "\n",
      "\n",
      "\n"
     ]
    }
   ],
   "source": [
    "for x_num in range(len(x0)):\n",
    "    q = 'Biblioteka funkcji & Próg & $\\Dot{x}'\n",
    "    print(f'{q}_{x_num+1}$ & $E_{x_num+1}$ \\\\\\\\')\n",
    "    for i, library in enumerate([FourierLibrary(n_frequencies=2), FourierLibrary(n_frequencies=1), PolynomialLibrary(degree=3), PolynomialLibrary(degree=2), PolynomialLibrary(degree=1)]):\n",
    "        print(f'\\\\hline')\n",
    "        for threshold in range(3):\n",
    "            threshold = 10**(threshold-4) if i >= 2 else 100*10**(threshold-4)\n",
    "            threshold = T * threshold\n",
    "            name = ['Trygonometryczna (st. 2)', 'Trygonometryczna (st. 1)', 'Wielomiany (st. 3)', 'Wielomiany (st. 2)', 'Liniowa']\n",
    "            model = ps.SINDy(\n",
    "                feature_library=library,\n",
    "                optimizer=ps.STLSQ(threshold=threshold),\n",
    "                feature_names=[f'x{i+1}' for i in range(len(x0))]+['u'],\n",
    "                discrete_time=True\n",
    "                )\n",
    "            model.fit(x=xk, u=u(t))\n",
    "            try:\n",
    "                x_sim = model.simulate(x0=x0_val, t=1001, u=u_val(t))\n",
    "                mse = ((x_sim - xk_val)**2).mean(axis=0)\n",
    "                E = '%.3E' % Decimal(str(mse[x_num]))\n",
    "            except:\n",
    "                E = '\\infty'\n",
    "            coeffs = ' + '.join(['%.3E' % Decimal(str(coeff))+' '+model.get_feature_names()[i] for i, coeff in enumerate(model.coefficients()[x_num]) if abs(model.coefficients()[x_num][i]) > threshold])\n",
    "            if len(coeffs.split(' + ')) > 2:\n",
    "                eq = (coeffs.split(' + ')[0] + ' + ' + coeffs.split(' + ')[1] + '\\dots').replace(' 1 +', ' +')\n",
    "            else:\n",
    "                eq = coeffs\n",
    "            if len(coeffs) == 0:\n",
    "                eq = '0,000'\n",
    "            eq = eq.replace(' 1 +', ' +').replace('.', ',').replace('+ -', '- ').replace('sin', '\\sin').replace('cos', '\\cos').replace('(1 x1)', '(x_1)').replace('(1 x2)', '(x_2)').replace('x2', 'x_2').replace('(1 x3)', '(x_3)').replace('x3', 'x_3').replace('(1 x4)', '(x_4)').replace('x4', 'x_4').replace('(1 x5)', '(x_5)').replace('x5', 'x_5').replace('x1', 'x_1').replace('(1 u)', '(u)')\n",
    "            for pow in range(1, 10):\n",
    "                eq = eq.replace('E+00', '')\n",
    "                E = E.replace('E+00', '')\n",
    "                eq = eq.replace(f'E+0{pow}', f'\\cdot 10^{pow}').replace(f'E-0{pow}', '\\cdot 10^{'+f'{-pow}'+'}')\n",
    "                E = E.replace(f'E+0{pow}', f'\\cdot 10^{pow}').replace(f'E-0{pow}', '\\cdot 10^{'+f'{-pow}'+'}')\n",
    "            print(f\"{name[i]} & {(str(threshold).replace('.', ',') + ' &').replace(',0 &', ' &')} ${eq}$ & ${E.replace('.', ',')}$ \\\\\\\\\")\n",
    "    print('\\n\\n')"
   ]
  },
  {
   "cell_type": "code",
   "execution_count": null,
   "metadata": {},
   "outputs": [],
   "source": [
    "plt.plot(t, x_val[:, 0])\n",
    "plt.plot(t, x_val[:, 1])\n",
    "plt.plot(t, x_val[:, 2])\n",
    "plt.plot(t, x_val[:, 3])\n",
    "plt.plot(t, x_val[:, 4])\n",
    "plt.grid()\n",
    "plt.legend([\"Zdrowe CD4+\", \"Zainfekowane CD4+\", \"Prekursory LTC\", \"Pomocniczo-niezależne LTC\", \"Pomocniczo-zależne LTC\"])\n",
    "plt.xlim(0, max(t))\n",
    "plt.xlabel(\"Czas [dni]\")\n",
    "ax1 = plt.gca()\n",
    "ax2 = ax1.twinx()\n",
    "ax2.spines['right'].set_color('green')\n",
    "ax2.yaxis.label.set_color('green')\n",
    "ax2.tick_params(axis='y', colors='green')\n",
    "ax2.plot(t, u_val(t), 'g--', alpha=0.4)\n",
    "ax2.set_ylabel(\"Sterowanie\")\n",
    "ax2.set_ylim(-0.4, 0.4)\n",
    "ax1.set_ylabel(\"Liczba osobników\")\n",
    "ax2.set_ylabel(\"Sterowanie\")\n",
    "plt.show()"
   ]
  }
 ],
 "metadata": {
  "kernelspec": {
   "display_name": "Python 3",
   "language": "python",
   "name": "python3"
  },
  "language_info": {
   "codemirror_mode": {
    "name": "ipython",
    "version": 3
   },
   "file_extension": ".py",
   "mimetype": "text/x-python",
   "name": "python",
   "nbconvert_exporter": "python",
   "pygments_lexer": "ipython3",
   "version": "3.11.4"
  }
 },
 "nbformat": 4,
 "nbformat_minor": 2
}
