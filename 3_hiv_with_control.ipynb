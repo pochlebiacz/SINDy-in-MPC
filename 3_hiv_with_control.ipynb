{
 "cells": [
  {
   "cell_type": "code",
   "execution_count": null,
   "metadata": {},
   "outputs": [],
   "source": [
    "import numpy as np\n",
    "import pysindy as ps\n",
    "from pysindy.feature_library import PolynomialLibrary, FourierLibrary, CustomLibrary\n",
    "\n",
    "import matplotlib.pyplot as plt\n",
    "from IPython.display import display, Latex\n",
    "\n",
    "from generate_data import generate_hiv_data"
   ]
  },
  {
   "cell_type": "code",
   "execution_count": null,
   "metadata": {},
   "outputs": [],
   "source": [
    "t = np.linspace(0, 100, 1001)\n",
    "x0 = [1, 1, 1, 0, 0]\n",
    "\n",
    "u = lambda t: np.sin(t)\n",
    "\n",
    "x, x_dot = generate_hiv_data(t=t, x0=x0, u=u)"
   ]
  },
  {
   "cell_type": "code",
   "execution_count": null,
   "metadata": {},
   "outputs": [],
   "source": [
    "plt.plot(t, x[:, 0])\n",
    "plt.plot(t, x[:, 1])\n",
    "plt.plot(t, x[:, 2])\n",
    "plt.plot(t, x[:, 3])\n",
    "plt.plot(t, x[:, 4])\n",
    "plt.legend([\"Zdrowe CD4+\", \"Zainfekowane CD4+\", \"Prekursory LTC\", \"Pomocniczo-niezależne LTC\", \"Pomocniczo-zależne LTC\"])\n",
    "plt.ylim(0, max(x[:, 0]*1.2))\n",
    "plt.xlim(0, max(t))\n",
    "plt.xlabel(\"Czas [dni]\")\n",
    "plt.ylabel(\"Stężenie\")\n",
    "\n",
    "plt.grid()\n",
    "plt.show()"
   ]
  }
 ],
 "metadata": {
  "kernelspec": {
   "display_name": "Python 3",
   "language": "python",
   "name": "python3"
  },
  "language_info": {
   "codemirror_mode": {
    "name": "ipython",
    "version": 3
   },
   "file_extension": ".py",
   "mimetype": "text/x-python",
   "name": "python",
   "nbconvert_exporter": "python",
   "pygments_lexer": "ipython3",
   "version": "3.11.4"
  }
 },
 "nbformat": 4,
 "nbformat_minor": 2
}
