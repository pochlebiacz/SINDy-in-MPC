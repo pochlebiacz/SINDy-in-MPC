{
 "cells": [
  {
   "cell_type": "code",
   "execution_count": null,
   "metadata": {},
   "outputs": [],
   "source": [
    "import numpy as np\n",
    "import pysindy as ps\n",
    "from pysindy.feature_library import PolynomialLibrary, FourierLibrary, CustomLibrary\n",
    "import matplotlib.pyplot as plt\n",
    "\n",
    "from generate_data import generate_hiv_data\n",
    "from decimal import Decimal"
   ]
  },
  {
   "cell_type": "code",
   "execution_count": null,
   "metadata": {},
   "outputs": [],
   "source": [
    "t = np.linspace(0, 100, 1001)\n",
    "x0 = [1, 1, 1, 1, 1]\n",
    "x0_val = [2, 1, 2, 2, 3]\n",
    "\n",
    "x, x_dot = generate_hiv_data(t=t, x0=x0)\n",
    "x_val, _ = generate_hiv_data(t=t, x0=x0_val)"
   ]
  },
  {
   "cell_type": "code",
   "execution_count": null,
   "metadata": {},
   "outputs": [],
   "source": [
    "model = ps.SINDy(\n",
    "    feature_library=PolynomialLibrary(degree=3),\n",
    "    # feature_library=FourierLibrary(n_frequencies=1),\n",
    "    optimizer=ps.STLSQ(threshold=0),\n",
    "    feature_names=[f'x{i+1}' for i in range(len(x[0]))]\n",
    "    )\n",
    "model.fit(x=x, x_dot=x_dot, t=t)\n",
    "model.print()"
   ]
  },
  {
   "cell_type": "code",
   "execution_count": null,
   "metadata": {},
   "outputs": [],
   "source": [
    "for x_num in range(len(x0)):\n",
    "    q = 'Biblioteka funkcji & Próg & $\\Dot{x}'\n",
    "    print(f'{q}_{x_num+1}$ & $E_{x_num+1}$ \\\\\\\\')\n",
    "    for i, library in enumerate([FourierLibrary(n_frequencies=2), FourierLibrary(n_frequencies=1), PolynomialLibrary(degree=3), PolynomialLibrary(degree=2), PolynomialLibrary(degree=1)]):\n",
    "        print(f'\\\\hline')\n",
    "        for threshold in range(3):\n",
    "            threshold = 10**(threshold-4) if i >= 2 else 100*10**(threshold-4)\n",
    "            name = ['Trygonometryczna (st. 2)', 'Trygonometryczna (st. 1)', 'Wielomiany (st. 3)', 'Wielomiany (st. 2)', 'Liniowa']\n",
    "            model = ps.SINDy(\n",
    "                feature_library=library,\n",
    "                optimizer=ps.STLSQ(threshold=threshold),\n",
    "                feature_names=[f'x{i+1}' for i in range(len(x0))]+['u'])\n",
    "            model.fit(x=x, x_dot=x_dot, t=t)\n",
    "            try:\n",
    "                x_sim = model.simulate(x0=x0_val, t=t)\n",
    "                mse = ((x_sim - x_val)**2).mean(axis=0)\n",
    "                E = '%.2E' % Decimal(str(mse[x_num]))\n",
    "            except:\n",
    "                E = '\\infty'\n",
    "            if len(model.equations()[x_num].split('+')) > 2:\n",
    "                eq = model.equations()[x_num].split('+')[0] + '+' + model.equations()[x_num].split('+')[1] + '\\dots'\n",
    "            else:\n",
    "                eq = model.equations()[x_num]\n",
    "            eq = eq.replace('.', ',').replace('+ -', '- ').replace('sin', '\\sin').replace('cos', '\\cos').replace('(1 x1)', '(x_1)').replace('(1 x2)', '(x_2)').replace('(1 x3)', '(x_3)').replace('x3', 'x_3').replace('x2', 'x_2').replace('x1', 'x_1').replace('(1 u)', '(u)')\n",
    "            print(f\"{name[i]} & {(str(threshold).replace('.', ',') + ' &').replace(',0 &', ' &')} ${eq}$ & ${E.replace('.', ',')}$ \\\\\\\\\")\n",
    "    print('\\n\\n')"
   ]
  },
  {
   "cell_type": "code",
   "execution_count": null,
   "metadata": {},
   "outputs": [],
   "source": [
    "plt.plot(t, x_val[:, 0])\n",
    "plt.plot(t, x_val[:, 1])\n",
    "plt.plot(t, x_val[:, 2])\n",
    "plt.plot(t, x_val[:, 3])\n",
    "plt.plot(t, x_val[:, 4])\n",
    "plt.legend([\"Zdrowe CD4+\", \"Zainfekowane CD4+\", \"Prekursory LTC\", \"Pomocniczo-niezależne LTC\", \"Pomocniczo-zależne LTC\"])\n",
    "# plt.ylim(0, max(x[:, 0]*1.2))\n",
    "plt.xlim(0, max(t))\n",
    "plt.xlabel(\"Czas [dni]\")\n",
    "plt.ylabel(\"Stężenie\")\n",
    "\n",
    "plt.grid()\n",
    "plt.show()"
   ]
  }
 ],
 "metadata": {
  "kernelspec": {
   "display_name": "Python 3",
   "language": "python",
   "name": "python3"
  },
  "language_info": {
   "codemirror_mode": {
    "name": "ipython",
    "version": 3
   },
   "file_extension": ".py",
   "mimetype": "text/x-python",
   "name": "python",
   "nbconvert_exporter": "python",
   "pygments_lexer": "ipython3",
   "version": "3.11.4"
  }
 },
 "nbformat": 4,
 "nbformat_minor": 2
}
