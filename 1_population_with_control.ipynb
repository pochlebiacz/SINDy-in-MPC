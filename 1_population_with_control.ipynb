{
 "cells": [
  {
   "cell_type": "code",
   "execution_count": null,
   "metadata": {},
   "outputs": [],
   "source": [
    "import numpy as np\n",
    "import pysindy as ps\n",
    "from pysindy.feature_library import PolynomialLibrary, FourierLibrary, CustomLibrary, ConcatLibrary\n",
    "import matplotlib.pyplot as plt\n",
    "\n",
    "from generate_data import generate_population_data"
   ]
  },
  {
   "cell_type": "code",
   "execution_count": null,
   "metadata": {},
   "outputs": [],
   "source": [
    "t = np.linspace(0, 100, 1001)\n",
    "\n",
    "x0 = [50, 50]\n",
    "x0_val = [100, 30]\n",
    "\n",
    "u = lambda t : np.sin(t)\n",
    "u_val = lambda t : np.cos(2*t)\n",
    "\n",
    "x, x_dot = generate_population_data(t, x0, u)\n",
    "x_val, _ = generate_population_data(t, x0_val, u_val)"
   ]
  },
  {
   "cell_type": "code",
   "execution_count": null,
   "metadata": {},
   "outputs": [],
   "source": [
    "model = ps.SINDy(\n",
    "    feature_library=PolynomialLibrary(degree=2), # 2, 1\n",
    "    # feature_library=FourierLibrary(n_frequencies=1), # 2, 1\n",
    "    optimizer=ps.STLSQ(threshold=0.001), # 0.001, 0.01, 0.1\n",
    "    feature_names=[f'x{i+1}' for i in range(len(x_dot[0]))]+['u']\n",
    "    )\n",
    "model.fit(x=x, x_dot=x_dot, t=t, u=u(t))\n",
    "model.print()"
   ]
  },
  {
   "cell_type": "code",
   "execution_count": 32,
   "metadata": {},
   "outputs": [
    {
     "name": "stdout",
     "output_type": "stream",
     "text": [
      "Biblioteka funkcji & Próg & $\\Dot{x}_1$ & $E_1$ \\\\\n",
      "\\hline\n",
      "Trygonometryczna (st. 2) & 0,1 & $2,877 \\sin(x_1) + 0,113 \\cos(x_1) \\dots$ & 263892,88 \\\\\n",
      "Trygonometryczna (st. 2) & 1 & $2,819 \\sin(x_1) - 10,438 \\sin(x_2) \\dots$ & 121021,45 \\\\\n",
      "Trygonometryczna (st. 2) & 10 & $-10,443 \\sin(x_2)$ & 355318,7 \\\\\n",
      "\\hline\n",
      "Trygonometryczna (st. 1) & 0,1 & $2,812 \\sin(x_1) + 0,230 \\cos(x_1) \\dots$ & 1373,09 \\\\\n",
      "Trygonometryczna (st. 1) & 1 & $2,808 \\sin(x_1) - 10,306 \\sin(x_2) \\dots$ & 157614,68 \\\\\n",
      "Trygonometryczna (st. 1) & 10 & $-10,443 \\sin(x_2)$ & 355318,7 \\\\\n",
      "\\hline\n",
      "Wielomiany (st. 2) & 0,001 & $0,500 x_1 - 0,025 x_1 x_2$ & 0,88 \\\\\n",
      "Wielomiany (st. 2) & 0,01 & $0,500 x_1 - 0,025 x_1 x_2$ & 10387,34 \\\\\n",
      "Wielomiany (st. 2) & 0,1 & $0,000$ & 967,06 \\\\\n",
      "\\hline\n",
      "Liniowa & 0,001 & $50,099 1 - 0,001 x_1 \\dots$ & 339,51 \\\\\n",
      "Liniowa & 0,01 & $49,971 1 - 2,488 x_2 \\dots$ & 392,6 \\\\\n",
      "Liniowa & 0,1 & $49,971 1 - 2,488 x_2 \\dots$ & 392,6 \\\\\n",
      "\n",
      "\n",
      "\n",
      "Biblioteka funkcji & Próg & $\\Dot{x}_2$ & $E_2$ \\\\\n",
      "\\hline\n",
      "Trygonometryczna (st. 2) & 0,1 & $0,261 \\sin(x_1) + 0,555 \\cos(x_1) \\dots$ & 90,72 \\\\\n",
      "Trygonometryczna (st. 2) & 1 & $3,925 \\sin(u) - 1,390 \\sin(2 u)$ & 141,43 \\\\\n",
      "Trygonometryczna (st. 2) & 10 & $0,000$ & 141,52 \\\\\n",
      "\\hline\n",
      "Trygonometryczna (st. 1) & 0,1 & $0,305 \\sin(x_1) + 0,536 \\cos(x_1) \\dots$ & 116,09 \\\\\n",
      "Trygonometryczna (st. 1) & 1 & $2,090 \\sin(u)$ & 141,43 \\\\\n",
      "Trygonometryczna (st. 1) & 10 & $0,000$ & 141,52 \\\\\n",
      "\\hline\n",
      "Wielomiany (st. 2) & 0,001 & $-0,500 x_2 + 1,000 u \\dots$ & 0,04 \\\\\n",
      "Wielomiany (st. 2) & 0,01 & $1,852 u$ & 141,43 \\\\\n",
      "Wielomiany (st. 2) & 0,1 & $1,852 u$ & 141,43 \\\\\n",
      "\\hline\n",
      "Liniowa & 0,001 & $-10,020 1 + 0,100 x_1 \\dots$ & 13,55 \\\\\n",
      "Liniowa & 0,01 & $-10,067 1 + 0,100 x_1 \\dots$ & 15,76 \\\\\n",
      "Liniowa & 0,1 & $-10,067 1 + 0,100 x_1 \\dots$ & 15,76 \\\\\n",
      "\n",
      "\n",
      "\n"
     ]
    }
   ],
   "source": [
    "for x_num in range(len(x0)):\n",
    "    q = 'Biblioteka funkcji & Próg & $\\Dot{x}'\n",
    "    print(f'{q}_{x_num+1}$ & $E_{x_num+1}$ \\\\\\\\')\n",
    "    for i, library in enumerate([FourierLibrary(n_frequencies=2), FourierLibrary(n_frequencies=1), PolynomialLibrary(degree=2), PolynomialLibrary(degree=1)]):\n",
    "        print(f'\\\\hline')\n",
    "        for threshold in range(3):\n",
    "            threshold = 10**(threshold-3) if i >= 2 else 100*10**(threshold-3)\n",
    "            name = ['Trygonometryczna (st. 2)', 'Trygonometryczna (st. 1)', 'Wielomiany (st. 2)', 'Liniowa']\n",
    "            model = ps.SINDy(\n",
    "                feature_library=library,\n",
    "                optimizer=ps.STLSQ(threshold=threshold),\n",
    "                feature_names=[f'x{i+1}' for i in range(len(x0))]+['u'])\n",
    "            model.fit(x=x, x_dot=x_dot, t=t, u=u(t))\n",
    "            x_sim = model.simulate(x0=x0_val, t=np.concatenate((t, [t[-1]+t[1]])), u=u_val(np.concatenate((t, [t[-1]+t[1]]))))\n",
    "            mse = ((x_sim - x_val)**2).mean(axis=0)\n",
    "            if len(model.equations()[x_num].split('+')) > 2:\n",
    "                eq = model.equations()[x_num].split('+')[0] + '+' + model.equations()[x_num].split('+')[1] + '\\dots'\n",
    "            else:\n",
    "                eq = model.equations()[x_num]\n",
    "            eq = eq.replace('.', ',').replace('+ -', '- ').replace('sin', '\\sin').replace('cos', '\\cos').replace('(1 x1)', '(x_1)').replace('(1 x2)', '(x_2)').replace('x2', 'x_2').replace('x1', 'x_1').replace('(1 u)', '(u)')\n",
    "            print(f\"{name[i]} & {(str(threshold).replace('.', ',') + ' &').replace(',0 &', ' &')} ${eq}$ & {str(round(mse[x_num], 2)).replace('.', ',')} \\\\\\\\\")\n",
    "    print('\\n\\n')"
   ]
  },
  {
   "cell_type": "code",
   "execution_count": null,
   "metadata": {},
   "outputs": [],
   "source": [
    "x_sim = model.simulate(x0=x0_val, t=np.concatenate((t, [t[-1]+t[1]])), u=u_val(np.concatenate((t, [t[-1]+t[1]]))))\n",
    "mse = ((x_sim - x_val)**2).mean(axis=0)\n",
    "print(f'Błąd średniokwadratowy x1: {mse[0]:.2f}, x2: {mse[1]:.2f}')"
   ]
  },
  {
   "cell_type": "code",
   "execution_count": null,
   "metadata": {},
   "outputs": [],
   "source": [
    "plt.plot(t, x_val[:, 0])\n",
    "plt.plot(t, x_val[:, 1])\n",
    "plt.plot(t, x_sim[:, 0], \"r--\")\n",
    "plt.plot(t, x_sim[:, 1], \"k--\")\n",
    "plt.ylim(0, max(x[:, 0]*1.4))\n",
    "plt.xlim(0, max(t))\n",
    "plt.grid()\n",
    "plt.legend([\"Populacja ofiar\", \"Populacja drapieżników\", \"Symulacja modelu ofiar\", \"Symulacja modelu drapieżników\"])\n",
    "plt.xlabel(\"Czas [dni]\")\n",
    "ax1 = plt.gca()\n",
    "ax2 = ax1.twinx()\n",
    "ax2.spines['right'].set_color('green')\n",
    "ax2.yaxis.label.set_color('green')\n",
    "ax2.tick_params(axis='y', colors='green')\n",
    "ax2.plot(t, u_val(t), 'g--', alpha=0.4)\n",
    "ax2.set_ylabel(\"Sterowanie\")\n",
    "ax2.set_ylim(-4, 4)\n",
    "ax1.set_ylabel(\"Liczba osobników\")\n",
    "ax2.set_ylabel(\"Sterowanie\")\n",
    "plt.show()"
   ]
  }
 ],
 "metadata": {
  "kernelspec": {
   "display_name": "Python 3",
   "language": "python",
   "name": "python3"
  },
  "language_info": {
   "codemirror_mode": {
    "name": "ipython",
    "version": 3
   },
   "file_extension": ".py",
   "mimetype": "text/x-python",
   "name": "python",
   "nbconvert_exporter": "python",
   "pygments_lexer": "ipython3",
   "version": "3.11.4"
  }
 },
 "nbformat": 4,
 "nbformat_minor": 2
}
