{
 "cells": [
  {
   "cell_type": "code",
   "execution_count": null,
   "metadata": {},
   "outputs": [],
   "source": [
    "import numpy as np\n",
    "import pysindy as ps\n",
    "from pysindy.feature_library import PolynomialLibrary, FourierLibrary, CustomLibrary, ConcatLibrary\n",
    "\n",
    "import matplotlib.pyplot as plt\n",
    "from IPython.display import display, Latex\n",
    "\n",
    "from generate_data import generate_population_data"
   ]
  },
  {
   "cell_type": "code",
   "execution_count": null,
   "metadata": {},
   "outputs": [],
   "source": [
    "t = np.linspace(0, 100, 1001)\n",
    "x0 = [50, 50]\n",
    "\n",
    "u = lambda t : np.sin(t)\n",
    "\n",
    "x, x_dot = generate_population_data(t, x0, u)"
   ]
  },
  {
   "cell_type": "code",
   "execution_count": null,
   "metadata": {},
   "outputs": [],
   "source": [
    "model = ps.SINDy(\n",
    "    feature_library=PolynomialLibrary(degree=2), # 2, 1\n",
    "    # feature_library=FourierLibrary(n_frequencies=1), # 2, 1\n",
    "    optimizer=ps.STLSQ(threshold=0.001), # 0.001, 0.01, 0.1\n",
    "    feature_names=[f'x{i+1}' for i in range(len(x_dot[0]))]+['u']\n",
    "    )\n",
    "model.fit(x=x, x_dot=x_dot, t=t, u=u(t))\n",
    "model.print()"
   ]
  },
  {
   "cell_type": "code",
   "execution_count": null,
   "metadata": {},
   "outputs": [],
   "source": [
    "x_sim = model.simulate(x0=x0, t=np.concatenate((t, [t[-1]+t[1]])), u=u(np.concatenate((t, [t[-1]+t[1]]))))\n",
    "mse_x1 = ((x_sim[:, 0] - x[:, 0])**2).mean()\n",
    "mse_x2 = ((x_sim[:, 1] - x[:, 1])**2).mean()\n",
    "print(f'Błąd średniokwadratowy x1: {mse_x1:.2f}, x2: {mse_x2:.2f}')"
   ]
  },
  {
   "cell_type": "code",
   "execution_count": null,
   "metadata": {},
   "outputs": [],
   "source": [
    "plt.plot(t, x[:, 0])\n",
    "plt.plot(t, x[:, 1])\n",
    "plt.plot(t, x_sim[:, 0], \"r--\")\n",
    "plt.plot(t, x_sim[:, 1], \"k--\")\n",
    "plt.ylim(0, max(x[:, 0]*1.4))\n",
    "plt.xlim(0, max(t))\n",
    "plt.grid()\n",
    "plt.legend([\"Populacja ofiar\", \"Populacja drapieżników\", \"Symulacja modelu ofiar\", \"Symulacja modelu drapieżników\"])\n",
    "plt.xlabel(\"Czas [dni]\")\n",
    "ax1 = plt.gca()\n",
    "ax2 = ax1.twinx()\n",
    "ax2.spines['right'].set_color('green')\n",
    "ax2.yaxis.label.set_color('green')\n",
    "ax2.tick_params(axis='y', colors='green')\n",
    "ax2.plot(t, u(t), 'g--', alpha=0.4)\n",
    "ax2.set_ylabel(\"Sterowanie\")\n",
    "ax2.set_ylim(-4, 4)\n",
    "ax1.set_ylabel(\"Liczba osobników\")\n",
    "ax2.set_ylabel(\"Sterowanie\")\n",
    "plt.show()"
   ]
  }
 ],
 "metadata": {
  "kernelspec": {
   "display_name": "Python 3",
   "language": "python",
   "name": "python3"
  },
  "language_info": {
   "codemirror_mode": {
    "name": "ipython",
    "version": 3
   },
   "file_extension": ".py",
   "mimetype": "text/x-python",
   "name": "python",
   "nbconvert_exporter": "python",
   "pygments_lexer": "ipython3",
   "version": "3.11.4"
  }
 },
 "nbformat": 4,
 "nbformat_minor": 2
}
