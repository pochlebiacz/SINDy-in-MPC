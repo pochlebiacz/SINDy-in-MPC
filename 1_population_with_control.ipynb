{
 "cells": [
  {
   "cell_type": "code",
   "execution_count": null,
   "metadata": {},
   "outputs": [],
   "source": [
    "import numpy as np\n",
    "import pysindy as ps\n",
    "from pysindy.feature_library import PolynomialLibrary, FourierLibrary, CustomLibrary, ConcatLibrary\n",
    "import matplotlib.pyplot as plt\n",
    "\n",
    "from decimal import Decimal\n",
    "from generate_data import generate_population_data, generate_discrete_population_data"
   ]
  },
  {
   "cell_type": "code",
   "execution_count": null,
   "metadata": {},
   "outputs": [],
   "source": [
    "t = np.linspace(0, 100, 1001)\n",
    "t_val = np.linspace(0, 100, 1001)\n",
    "\n",
    "x0 = [50, 50]\n",
    "x0_val = [100, 30]\n",
    "\n",
    "u = lambda t : np.sin(t)\n",
    "u_val = lambda t : np.cos(2*t)"
   ]
  },
  {
   "cell_type": "code",
   "execution_count": null,
   "metadata": {},
   "outputs": [],
   "source": [
    "x, x_dot = generate_population_data(t, x0, u)\n",
    "x_val, _ = generate_population_data(t, x0_val, u_val)"
   ]
  },
  {
   "cell_type": "code",
   "execution_count": null,
   "metadata": {},
   "outputs": [],
   "source": [
    "T = 1e-1\n",
    "xk = generate_discrete_population_data(t, x0, T=T, u=u(t))\n",
    "xk_val = generate_discrete_population_data(t, x0_val, T=T, u=u_val(t))"
   ]
  },
  {
   "cell_type": "code",
   "execution_count": null,
   "metadata": {},
   "outputs": [],
   "source": [
    "pr = int(3 - np.log10(T))\n",
    "model = ps.SINDy(\n",
    "    feature_library=PolynomialLibrary(degree=2),\n",
    "    # feature_library=FourierLibrary(n_frequencies=1),\n",
    "    optimizer=ps.STLSQ(threshold=0.0001),\n",
    "    feature_names=[f'x{i+1}' for i in range(len(x0))]+['u'],\n",
    "    # discrete_time=True\n",
    "    )\n",
    "# model.fit(x=xk, u=u)\n",
    "model.fit(x=x, x_dot=x_dot, u=u(t))\n",
    "model.print(precision=pr)"
   ]
  },
  {
   "cell_type": "code",
   "execution_count": null,
   "metadata": {},
   "outputs": [],
   "source": [
    "x_sim = model.simulate(x0=x0, t=t, u=u)\n",
    "mse = ((x_sim - x)**2).mean(axis=0)\n",
    "print(f'Błąd średniokwadratowy x1: {mse[0]}, x2: {mse[1]}')"
   ]
  },
  {
   "cell_type": "code",
   "execution_count": null,
   "metadata": {},
   "outputs": [],
   "source": [
    "plt.plot(t, x[:, 0])\n",
    "plt.plot(t, x[:, 1])\n",
    "plt.plot(t, x_sim[:, 0], \"r--\")\n",
    "plt.plot(t, x_sim[:, 1], \"k--\")\n",
    "plt.ylim(0, max(x[:, 0]*1.4))\n",
    "plt.xlim(0, max(t))\n",
    "plt.grid()\n",
    "plt.legend([\"Populacja ofiar\", \"Populacja drapieżników\"])\n",
    "plt.ylabel(\"Liczba osobników\")\n",
    "plt.xlabel(\"Czas [dni]\")\n",
    "ax1 = plt.gca()\n",
    "ax2 = ax1.twinx()\n",
    "ax2.spines['right'].set_color('green')\n",
    "ax2.yaxis.label.set_color('green')\n",
    "ax2.tick_params(axis='y', colors='green')\n",
    "ax2.plot(t, u(t), 'g--', alpha=0.4)\n",
    "ax2.set_ylabel(\"Sterowanie\")\n",
    "ax2.set_ylim(1, 10)\n",
    "ax1.set_ylabel(\"Liczba osobników\")\n",
    "ax2.set_ylabel(\"Sterowanie\")\n",
    "plt.show()"
   ]
  }
 ],
 "metadata": {
  "kernelspec": {
   "display_name": "Python 3",
   "language": "python",
   "name": "python3"
  },
  "language_info": {
   "codemirror_mode": {
    "name": "ipython",
    "version": 3
   },
   "file_extension": ".py",
   "mimetype": "text/x-python",
   "name": "python",
   "nbconvert_exporter": "python",
   "pygments_lexer": "ipython3",
   "version": "3.11.4"
  }
 },
 "nbformat": 4,
 "nbformat_minor": 2
}
