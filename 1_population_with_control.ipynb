{
 "cells": [
  {
   "cell_type": "code",
   "execution_count": 1,
   "metadata": {},
   "outputs": [],
   "source": [
    "import numpy as np\n",
    "import pysindy as ps\n",
    "from pysindy.feature_library import PolynomialLibrary, FourierLibrary, CustomLibrary, ConcatLibrary\n",
    "import matplotlib.pyplot as plt\n",
    "\n",
    "from decimal import Decimal\n",
    "from generate_data import generate_population_data, generate_discrete_population_data"
   ]
  },
  {
   "cell_type": "code",
   "execution_count": 2,
   "metadata": {},
   "outputs": [],
   "source": [
    "t = np.linspace(0, 100, 1001)\n",
    "\n",
    "x0 = [50, 50]\n",
    "x0_val = [100, 30]\n",
    "\n",
    "u = lambda t : np.sin(t)\n",
    "u_val = lambda t : np.cos(2*t)"
   ]
  },
  {
   "cell_type": "code",
   "execution_count": 3,
   "metadata": {},
   "outputs": [],
   "source": [
    "x, x_dot = generate_population_data(t, x0, u)\n",
    "x_val, _ = generate_population_data(t, x0_val, u_val)"
   ]
  },
  {
   "cell_type": "code",
   "execution_count": 4,
   "metadata": {},
   "outputs": [],
   "source": [
    "T = 1e-1\n",
    "xk = generate_discrete_population_data(t, x0, T=T, u=u(t))\n",
    "xk_val = generate_discrete_population_data(t, x0_val, T=T, u=u_val(t))"
   ]
  },
  {
   "cell_type": "code",
   "execution_count": 5,
   "metadata": {},
   "outputs": [
    {
     "name": "stdout",
     "output_type": "stream",
     "text": [
      "(x1)[k+1] = 1.0500 x1[k] + -0.0025 x1[k] x2[k]\n",
      "(x2)[k+1] = 0.9500 x2[k] + 0.1000 u[k] + 0.0005 x1[k] x2[k]\n"
     ]
    }
   ],
   "source": [
    "pr = int(3 - np.log10(T))\n",
    "model = ps.SINDy(\n",
    "    feature_library=PolynomialLibrary(degree=2), # 2, 1\n",
    "    # feature_library=FourierLibrary(n_frequencies=2), # 2, 1\n",
    "    optimizer=ps.STLSQ(threshold=0.00001), # 0.001, 0.01, 0.1\n",
    "    feature_names=[f'x{i+1}' for i in range(len(x_dot[0]))]+['u'],\n",
    "    discrete_time=True\n",
    "    )\n",
    "model.fit(x=xk, u=u(t))\n",
    "model.print(precision=pr)"
   ]
  },
  {
   "cell_type": "code",
   "execution_count": null,
   "metadata": {},
   "outputs": [],
   "source": [
    "t = np.linspace(0, 100, 1001)\n",
    "for x_num in range(len(x0)):\n",
    "    q = 'Biblioteka funkcji & Próg & $\\Dot{x}'\n",
    "    print(f'{q}_{x_num+1}$ & $E_{x_num+1}$ \\\\\\\\')\n",
    "    for i, library in enumerate([FourierLibrary(n_frequencies=2), FourierLibrary(n_frequencies=1), PolynomialLibrary(degree=2), PolynomialLibrary(degree=1)]):\n",
    "        print(f'\\\\hline')\n",
    "        for threshold in range(3):\n",
    "            threshold = 10**(threshold-3) if i >= 2 else 100*10**(threshold-3)\n",
    "            threshold = T * threshold\n",
    "            name = ['Trygonometryczna (st. 2)', 'Trygonometryczna (st. 1)', 'Wielomiany (st. 2)', 'Liniowa']\n",
    "            model = ps.SINDy(\n",
    "                feature_library=library,\n",
    "                optimizer=ps.STLSQ(threshold=threshold),\n",
    "                feature_names=[f'x{i+1}' for i in range(len(x0))]+['u'],\n",
    "                discrete_time=True\n",
    "                )\n",
    "            model.fit(x=xk, u=u(t))\n",
    "            # try:\n",
    "            x_sim = model.simulate(x0=x0_val, t=1001, u=u_val(t))\n",
    "            mse = ((x_sim - xk_val)**2).mean(axis=0)\n",
    "            E = '%.3E' % Decimal(str(mse[x_num]))\n",
    "            # except:\n",
    "            #     E = '\\infty'\n",
    "            coeffs = ' + '.join(['%.3E' % Decimal(str(coeff))+' '+model.get_feature_names()[i] for i, coeff in enumerate(model.coefficients()[x_num]) if abs(model.coefficients()[x_num][i]) > threshold])\n",
    "            if len(coeffs.split(' + ')) > 2:\n",
    "                eq = (coeffs.split(' + ')[0] + ' + ' + coeffs.split(' + ')[1] + '\\dots').replace(' 1 +', ' +')\n",
    "            else:\n",
    "                eq = coeffs\n",
    "            if len(coeffs) == 0:\n",
    "                eq = '0,000'\n",
    "            eq = eq.replace(' 1 +', ' +').replace('.', ',').replace('+ -', '- ').replace('sin', '\\sin').replace('cos', '\\cos').replace('(1 x1)', '(x_1)').replace('(1 x2)', '(x_2)').replace('x2', 'x_2').replace('x1', 'x_1').replace('(1 u)', '(u)')\n",
    "            for pow in range(1, 10):\n",
    "                eq = eq.replace('E+00', '')\n",
    "                E = E.replace('E+00', '')\n",
    "                eq = eq.replace(f'E+0{pow}', f'\\cdot 10^{pow}').replace(f'E-0{pow}', '\\cdot 10^{'+f'{-pow}'+'}')\n",
    "                E = E.replace(f'E+0{pow}', f'\\cdot 10^{pow}').replace(f'E-0{pow}', '\\cdot 10^{'+f'{-pow}'+'}')\n",
    "            print(f\"{name[i]} & {(str(threshold).replace('.', ',') + ' &').replace(',0 &', ' &')} ${eq}$ & ${E.replace('.', ',')}$ \\\\\\\\\")\n",
    "    print('\\n\\n')"
   ]
  },
  {
   "cell_type": "code",
   "execution_count": null,
   "metadata": {},
   "outputs": [],
   "source": [
    "x_sim = model.simulate(x0=x0_val, t=1001, u=u_val(t))\n",
    "mse = ((x_sim - x_val)**2).mean(axis=0)\n",
    "print(f'Błąd średniokwadratowy x1: {mse[0]:.2f}, x2: {mse[1]:.2f}')"
   ]
  },
  {
   "cell_type": "code",
   "execution_count": null,
   "metadata": {},
   "outputs": [],
   "source": [
    "plt.plot(t, xk_val[:, 0])\n",
    "plt.plot(t, xk_val[:, 1])\n",
    "plt.plot(t, x_sim[:, 0], \"r--\")\n",
    "plt.plot(t, x_sim[:, 1], \"k--\")\n",
    "plt.ylim(0, max(x_val[:, 0]*1.4))\n",
    "plt.xlim(0, max(t))\n",
    "plt.grid()\n",
    "plt.legend([\"Populacja ofiar\", \"Populacja drapieżników\", \"Model ofiar\", \"Model drapieżników\"])\n",
    "plt.xlabel(\"Czas [dni]\")\n",
    "ax1 = plt.gca()\n",
    "ax2 = ax1.twinx()\n",
    "ax2.spines['right'].set_color('green')\n",
    "ax2.yaxis.label.set_color('green')\n",
    "ax2.tick_params(axis='y', colors='green')\n",
    "ax2.plot(t, u_val(t), 'g--', alpha=0.4)\n",
    "ax2.set_ylabel(\"Sterowanie\")\n",
    "ax2.set_ylim(-3, 8)\n",
    "ax1.set_ylabel(\"Liczba osobników\")\n",
    "ax2.set_ylabel(\"Sterowanie\")\n",
    "plt.show()"
   ]
  }
 ],
 "metadata": {
  "kernelspec": {
   "display_name": "Python 3",
   "language": "python",
   "name": "python3"
  },
  "language_info": {
   "codemirror_mode": {
    "name": "ipython",
    "version": 3
   },
   "file_extension": ".py",
   "mimetype": "text/x-python",
   "name": "python",
   "nbconvert_exporter": "python",
   "pygments_lexer": "ipython3",
   "version": "3.11.4"
  }
 },
 "nbformat": 4,
 "nbformat_minor": 2
}
