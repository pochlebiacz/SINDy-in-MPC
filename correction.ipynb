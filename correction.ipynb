{
 "cells": [
  {
   "cell_type": "code",
   "execution_count": null,
   "id": "81821587",
   "metadata": {},
   "outputs": [],
   "source": [
    "import numpy as np\n",
    "import pysindy as ps\n",
    "from pysindy.feature_library import PolynomialLibrary, FourierLibrary\n",
    "import matplotlib.pyplot as plt\n",
    "\n",
    "from generate_data import generate_tracking_data, generate_discrete_tracking_data\n",
    "from decimal import Decimal"
   ]
  },
  {
   "cell_type": "code",
   "execution_count": 74,
   "id": "ab8939f8",
   "metadata": {},
   "outputs": [],
   "source": [
    "T = 1e-1\n",
    "t = np.linspace(0, 20, 201)\n",
    "\n",
    "x0 = [-0.1, 0.2, -0.1]\n",
    "x0_val = [0.1, 0.1, 0]\n",
    "\n",
    "u = lambda t: 0.001*np.sin(t)\n",
    "u_val = lambda t: 0.001*np.cos(2*t)\n",
    "\n",
    "x, x_dot = generate_tracking_data(t=t, x0=x0, u=u)\n",
    "x_val, _ = generate_tracking_data(t=t, x0=x0_val, u=u_val)\n",
    "\n",
    "xk = generate_discrete_tracking_data(t=t, x0=x0, T=T, u=u(t))\n",
    "xk_val = generate_discrete_tracking_data(t=t, x0=x0_val, T=T, u=u_val(t))"
   ]
  },
  {
   "cell_type": "code",
   "execution_count": null,
   "id": "dc0c33e3",
   "metadata": {},
   "outputs": [],
   "source": [
    "x0s = np.random.uniform(-0.1, 0.1, (500, 3))\n",
    "\n",
    "xss = []\n",
    "x_dots = []\n",
    "us = []\n",
    "\n",
    "for x0 in x0s:\n",
    "    u_test = lambda t: x0[0] / 100. * np.sin(t)\n",
    "    x = generate_discrete_tracking_data(t=t, x0=x0, T=T, u=u_test(t))\n",
    "    # x, x_dot = generate_tracking_data(t=t, x0=x0, u=u)\n",
    "    xss.append(x)\n",
    "    x_dots.append(x_dot)\n",
    "    us.append(u_test(t))"
   ]
  },
  {
   "cell_type": "code",
   "execution_count": null,
   "id": "5356413d",
   "metadata": {},
   "outputs": [
    {
     "name": "stdout",
     "output_type": "stream",
     "text": [
      "(x1)[k+1] = 0.9123 x1[k] + 0.1000 x3[k] + -0.0215 u[k] + 0.0470 x1[k]^2 + -0.0088 x1[k] x3[k] + -0.0019 x2[k]^2 + 0.3846 x1[k]^3 + -0.1000 x1[k]^2 x3[k] + 0.0280 x1[k]^2 u[k] + 0.0455 x1[k] u[k]^2 + -0.0004 x3[k] u[k]^2\n",
      "(x2)[k+1] = 1.0000 x2[k] + 0.1000 x3[k]\n",
      "(x3)[k+1] = -0.4208 x1[k] + 0.9604 x3[k] + -2.0967 u[k] + -0.0470 x1[k]^2 + -0.3564 x1[k]^3 + 0.6265 x1[k]^2 u[k] + 4.6000 x1[k] u[k]^2 + 6.1100 u[k]^3\n"
     ]
    }
   ],
   "source": [
    "model = ps.SINDy(\n",
    "    feature_library=PolynomialLibrary(degree=3), # 2, 1\n",
    "    # feature_library=FourierLibrary(n_frequencies=1), # 2, 1\n",
    "    optimizer=ps.STLSQ(threshold=1e-7), # 0.001, 0.01, 0.1\n",
    "    feature_names=[f'x{i+1}' for i in range(3)]+['u'],\n",
    "    discrete_time=True\n",
    "    )\n",
    "model.fit(x=xss, u=us, multiple_trajectories=True)\n",
    "model.print(precision=4)"
   ]
  },
  {
   "cell_type": "code",
   "execution_count": 93,
   "id": "2b5bb02b",
   "metadata": {},
   "outputs": [
    {
     "name": "stdout",
     "output_type": "stream",
     "text": [
      "Błąd średniokwadratowy x1: 4.076221959308485e-05, x2: 4.169042593878539e-05, x3: 0.0001680509350714841\n"
     ]
    }
   ],
   "source": [
    "x_sim = model.simulate(x0=x0_val, t=201, u=u_val(t))\n",
    "mse = ((x_sim - x_val)**2).mean(axis=0)\n",
    "# mse1 = '%.3E' % Decimal(str(mse[0]))\n",
    "# mse2 = '%.3E' % Decimal(str(mse[1]))\n",
    "# mse3 = '%.3E' % Decimal(str(mse[2]))\n",
    "mse1, mse2, mse3 = mse[0], mse[1], mse[2]\n",
    "print(f'Błąd średniokwadratowy x1: {mse1}, x2: {mse2}, x3: {mse3}')"
   ]
  }
 ],
 "metadata": {
  "kernelspec": {
   "display_name": "Python 3",
   "language": "python",
   "name": "python3"
  },
  "language_info": {
   "codemirror_mode": {
    "name": "ipython",
    "version": 3
   },
   "file_extension": ".py",
   "mimetype": "text/x-python",
   "name": "python",
   "nbconvert_exporter": "python",
   "pygments_lexer": "ipython3",
   "version": "3.11.4"
  }
 },
 "nbformat": 4,
 "nbformat_minor": 5
}
