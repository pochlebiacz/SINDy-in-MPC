{
 "cells": [
  {
   "cell_type": "code",
   "execution_count": null,
   "metadata": {},
   "outputs": [],
   "source": [
    "import numpy as np\n",
    "import pysindy as ps\n",
    "from pysindy.feature_library import PolynomialLibrary, FourierLibrary, CustomLibrary\n",
    "import matplotlib.pyplot as plt\n",
    "\n",
    "from decimal import Decimal\n",
    "from generate_data import generate_population_data, generate_discrete_population_data"
   ]
  },
  {
   "cell_type": "code",
   "execution_count": null,
   "metadata": {},
   "outputs": [],
   "source": [
    "T = 1e-1\n",
    "\n",
    "# t = np.linspace(0, 100, int(100/T)+1)\n",
    "t = np.linspace(0, 100, 1001)\n",
    "\n",
    "x0 = [50, 50]\n",
    "x0_val = [100, 30]"
   ]
  },
  {
   "cell_type": "code",
   "execution_count": null,
   "metadata": {},
   "outputs": [],
   "source": [
    "xk = generate_discrete_population_data(t, x0, T=T)\n",
    "xk_val = generate_discrete_population_data(t, x0_val, T=T)"
   ]
  },
  {
   "cell_type": "code",
   "execution_count": null,
   "metadata": {},
   "outputs": [],
   "source": [
    "x, x_dot = generate_population_data(t, x0)\n",
    "x_val, _ = generate_population_data(t, x0_val)"
   ]
  },
  {
   "cell_type": "code",
   "execution_count": null,
   "metadata": {},
   "outputs": [],
   "source": [
    "pr = int(3 - np.log10(T))\n",
    "model = ps.SINDy(\n",
    "    # feature_library=PolynomialLibrary(degree=2), # 2, 1\n",
    "    feature_library=FourierLibrary(n_frequencies=2), # 2, 1\n",
    "    optimizer=ps.STLSQ(threshold=0.001), # 0.001, 0.01, 0.1\n",
    "    feature_names=[f'x{i+1}' for i in range(len(x[0]))],\n",
    "    discrete_time=True\n",
    "    )\n",
    "model.fit(x=xk)\n",
    "model.print(precision=pr)"
   ]
  },
  {
   "cell_type": "code",
   "execution_count": null,
   "metadata": {},
   "outputs": [],
   "source": [
    "# T = 1e-1\n",
    "# t = np.linspace(0, 100, 1001)\n",
    "# for x_num in range(len(x0)):\n",
    "#     q = 'Biblioteka funkcji & Próg & $\\Dot{x}'\n",
    "#     print(f'{q}_{x_num+1}$ & $E_{x_num+1}$ \\\\\\\\')\n",
    "#     for i, library in enumerate([FourierLibrary(n_frequencies=2), FourierLibrary(n_frequencies=1), PolynomialLibrary(degree=2), PolynomialLibrary(degree=1)]):\n",
    "#         print(f'\\\\hline')\n",
    "#         for threshold in range(3):\n",
    "#             threshold = 10**(threshold-3) if i >= 2 else 100*10**(threshold-3)\n",
    "#             threshold = T * threshold\n",
    "#             name = ['Trygonometryczna (st. 2)', 'Trygonometryczna (st. 1)', 'Wielomiany (st. 2)', 'Liniowa']\n",
    "#             model = ps.SINDy(\n",
    "#                 feature_library=library,\n",
    "#                 optimizer=ps.STLSQ(threshold=threshold),\n",
    "#                 feature_names=[f'x{i+1}' for i in range(len(x0))],\n",
    "#                 discrete_time=True)\n",
    "#             model.fit(x=xk)\n",
    "#             try:\n",
    "#                 x_sim = model.simulate(x0=x0_val, t=1001)\n",
    "#                 mse = ((x_sim - xk_val)**2).mean(axis=0)\n",
    "#                 E = '%.3E' % Decimal(str(mse[x_num]))\n",
    "#             except:\n",
    "#                 E = '\\infty'\n",
    "#             coeffs = ' + '.join(['%.3E' % Decimal(str(coeff))+' '+model.get_feature_names()[i] for i, coeff in enumerate(model.coefficients()[x_num]) if abs(model.coefficients()[x_num][i]) > threshold])\n",
    "#             if len(coeffs.split(' + ')) > 2:\n",
    "#                 eq = (coeffs.split(' + ')[0] + ' + ' + coeffs.split(' + ')[1] + '\\dots').replace(' 1 +', ' +')\n",
    "#             else:\n",
    "#                 eq = coeffs\n",
    "#             if len(coeffs) == 0:\n",
    "#                 eq = '0,000'\n",
    "#             eq = eq.replace(' 1 +', ' +').replace('.', ',').replace('+ -', '- ').replace('sin', '\\sin').replace('cos', '\\cos').replace('(1 x1)', '(x_1)').replace('(1 x2)', '(x_2)').replace('x2', 'x_2').replace('x1', 'x_1').replace('(1 u)', '(u)')\n",
    "#             for pow in range(1, 10):\n",
    "#                 eq = eq.replace('E+00', '')\n",
    "#                 E = E.replace('E+00', '')\n",
    "#                 eq = eq.replace(f'E+0{pow}', f'\\cdot 10^{pow}').replace(f'E-0{pow}', '\\cdot 10^{'+f'{-pow}'+'}')\n",
    "#                 E = E.replace(f'E+0{pow}', f'\\cdot 10^{pow}').replace(f'E-0{pow}', '\\cdot 10^{'+f'{-pow}'+'}')\n",
    "#             print(f\"{name[i]} & {(str(threshold).replace('.', ',') + ' &').replace(',0 &', ' &')} ${eq}$ & ${E.replace('.', ',')}$ \\\\\\\\\")\n",
    "#     print('\\n\\n')"
   ]
  },
  {
   "cell_type": "code",
   "execution_count": null,
   "metadata": {},
   "outputs": [],
   "source": [
    "x_sim = model.simulate(x0=x0_val, t=len(t))\n",
    "mse_x1 = ((x_sim[:, 0] - xk_val[:, 0])**2).mean()\n",
    "mse_x2 = ((x_sim[:, 1] - xk_val[:, 1])**2).mean()\n",
    "print(f'Błąd średniokwadratowy x1: {mse_x1:.2f}, x2: {mse_x2:.2f}')"
   ]
  },
  {
   "cell_type": "code",
   "execution_count": null,
   "metadata": {},
   "outputs": [],
   "source": [
    "plt.plot(t, x_val[:, 0])\n",
    "plt.plot(t, x_val[:, 1])\n",
    "plt.plot(t, x_sim[:, 0], \"r--\")\n",
    "plt.plot(t, x_sim[:, 1], \"k--\")\n",
    "plt.legend([\"Populacja ofiar\", \"Populacja drapieżników\", \"Model ofiar\", \"Model drapieżników\"])\n",
    "plt.ylim(0, max(x[:, 0]*1.4))\n",
    "plt.xlim(0, max(t))\n",
    "plt.xlabel(\"Czas [dni]\")\n",
    "plt.ylabel(\"Liczba osobników\")\n",
    "plt.grid()\n",
    "plt.show()"
   ]
  }
 ],
 "metadata": {
  "kernelspec": {
   "display_name": "Python 3",
   "language": "python",
   "name": "python3"
  },
  "language_info": {
   "codemirror_mode": {
    "name": "ipython",
    "version": 3
   },
   "file_extension": ".py",
   "mimetype": "text/x-python",
   "name": "python",
   "nbconvert_exporter": "python",
   "pygments_lexer": "ipython3",
   "version": "3.11.4"
  }
 },
 "nbformat": 4,
 "nbformat_minor": 2
}
