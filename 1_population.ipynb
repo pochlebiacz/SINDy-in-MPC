{
 "cells": [
  {
   "cell_type": "code",
   "execution_count": null,
   "metadata": {},
   "outputs": [],
   "source": [
    "import numpy as np\n",
    "import pysindy as ps\n",
    "from pysindy.feature_library import PolynomialLibrary, FourierLibrary\n",
    "import matplotlib.pyplot as plt\n",
    "\n",
    "from generate_data import generate_population_data, generate_discrete_population_data"
   ]
  },
  {
   "cell_type": "code",
   "execution_count": null,
   "metadata": {},
   "outputs": [],
   "source": [
    "T = 1e-1\n",
    "\n",
    "t = np.linspace(0, 100, 1001)\n",
    "\n",
    "x0 = [50, 50]\n",
    "x0_val = [100, 30]"
   ]
  },
  {
   "cell_type": "code",
   "execution_count": null,
   "metadata": {},
   "outputs": [],
   "source": [
    "xk = generate_discrete_population_data(t, x0, T=T)\n",
    "xk_val = generate_discrete_population_data(t, x0_val, T=T)"
   ]
  },
  {
   "cell_type": "code",
   "execution_count": null,
   "metadata": {},
   "outputs": [],
   "source": [
    "x, x_dot = generate_population_data(t, x0)\n",
    "x_val, _ = generate_population_data(t, x0_val)"
   ]
  },
  {
   "cell_type": "code",
   "execution_count": null,
   "metadata": {},
   "outputs": [],
   "source": [
    "pr = int(3 - np.log10(T))\n",
    "model = ps.SINDy(\n",
    "    feature_library=PolynomialLibrary(degree=2),\n",
    "    # feature_library=FourierLibrary(n_frequencies=2),\n",
    "    optimizer=ps.STLSQ(threshold=0.0001),\n",
    "    feature_names=[f'x{i+1}' for i in range(len(x[0]))],\n",
    "    discrete_time=True\n",
    "    )\n",
    "model.fit(x=xk)\n",
    "# model.fit(x=x, x_dot=x_dot, t=t)\n",
    "model.print(precision=pr)"
   ]
  },
  {
   "cell_type": "code",
   "execution_count": null,
   "metadata": {},
   "outputs": [],
   "source": [
    "x_sim = model.simulate(x0=x0_val, t=len(t))\n",
    "mse_x1 = ((x_sim[:, 0] - xk_val[:, 0])**2).mean()\n",
    "mse_x2 = ((x_sim[:, 1] - xk_val[:, 1])**2).mean()\n",
    "print(f'Błąd średniokwadratowy x1: {mse_x1:.2f}, x2: {mse_x2:.2f}')"
   ]
  },
  {
   "cell_type": "code",
   "execution_count": null,
   "metadata": {},
   "outputs": [],
   "source": [
    "plt.plot(t, xk_val[:, 0])\n",
    "plt.plot(t, xk_val[:, 1])\n",
    "plt.plot(t, x_sim[:, 0], \"r--\")\n",
    "plt.plot(t, x_sim[:, 1], \"k--\")\n",
    "plt.legend([\"Populacja ofiar\", \"Populacja drapieżników\", \"Model ofiar\", \"Model drapieżników\"])\n",
    "plt.ylim(0, max(xk_val[:, 0]*1.4))\n",
    "plt.xlim(0, max(t))\n",
    "plt.xlabel(\"Czas [dni]\")\n",
    "plt.ylabel(\"Liczba osobników\")\n",
    "plt.grid()\n",
    "plt.show()"
   ]
  }
 ],
 "metadata": {
  "kernelspec": {
   "display_name": "Python 3",
   "language": "python",
   "name": "python3"
  },
  "language_info": {
   "codemirror_mode": {
    "name": "ipython",
    "version": 3
   },
   "file_extension": ".py",
   "mimetype": "text/x-python",
   "name": "python",
   "nbconvert_exporter": "python",
   "pygments_lexer": "ipython3",
   "version": "3.11.4"
  }
 },
 "nbformat": 4,
 "nbformat_minor": 2
}
