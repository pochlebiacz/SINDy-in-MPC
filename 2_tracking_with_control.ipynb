{
 "cells": [
  {
   "cell_type": "code",
   "execution_count": null,
   "metadata": {},
   "outputs": [],
   "source": [
    "import numpy as np\n",
    "import pysindy as ps\n",
    "from pysindy.feature_library import PolynomialLibrary, FourierLibrary\n",
    "import matplotlib.pyplot as plt\n",
    "\n",
    "from generate_data import generate_tracking_data, generate_discrete_tracking_data"
   ]
  },
  {
   "cell_type": "code",
   "execution_count": null,
   "metadata": {},
   "outputs": [],
   "source": [
    "T = 1e-1\n",
    "t = np.linspace(0, 20, 201)\n",
    "\n",
    "x0 = [-0.1, 0.2, -0.1]\n",
    "x0_val = [0.1, 0.1, 0]\n",
    "\n",
    "u = lambda t: 0.001*np.sin(t)\n",
    "u_val = lambda t: 0.001*np.cos(2*t)"
   ]
  },
  {
   "cell_type": "code",
   "execution_count": null,
   "metadata": {},
   "outputs": [],
   "source": [
    "x, x_dot = generate_tracking_data(t=t, x0=x0, u=u)\n",
    "x_val, _ = generate_tracking_data(t=t, x0=x0_val, u=u_val)\n",
    "\n",
    "xk = generate_discrete_tracking_data(t=t, x0=x0, T=T, u=u(t))\n",
    "xk_val = generate_discrete_tracking_data(t=t, x0=x0_val, T=T, u=u_val(t))"
   ]
  },
  {
   "cell_type": "code",
   "execution_count": null,
   "metadata": {},
   "outputs": [],
   "source": [
    "model = ps.SINDy(\n",
    "    feature_library=PolynomialLibrary(degree=3),\n",
    "    # feature_library=FourierLibrary(n_frequencies=1),\n",
    "    optimizer=ps.STLSQ(threshold=1e-5),\n",
    "    feature_names=[f'x{i+1}' for i in range(3)]+['u'],\n",
    "    discrete_time=True\n",
    "    )\n",
    "# model.fit(x=x, x_dot=x_dot, t=t, u=u(t))\n",
    "model.fit(x=xk, u=u(t))\n",
    "model.print(precision=3)"
   ]
  },
  {
   "cell_type": "code",
   "execution_count": null,
   "metadata": {},
   "outputs": [],
   "source": [
    "x_sim = model.simulate(x0=x0_val, t=len(t), u=u_val(t))\n",
    "mse = ((x_sim - xk_val)**2).mean(axis=0)\n",
    "print(f'Błąd średniokwadratowy x1: {mse[0]}, x2: {mse[1]}, x3: {mse[2]}')"
   ]
  },
  {
   "cell_type": "code",
   "execution_count": null,
   "metadata": {},
   "outputs": [],
   "source": [
    "fig, axs = plt.subplots(4, 1, figsize=(10, 8), sharex=True)\n",
    "\n",
    "labels = [\n",
    "    (\"Kąt natarcia\", \"Model kąt natarcia\"),\n",
    "    (\"Kąt nachylenia\", \"Model kąta nachylenia\"),\n",
    "    (\"Współczynnik nachylenia\", \"Model współczynnika nachylenia\"),\n",
    "    (\"Sterowanie\")\n",
    "]\n",
    "colors = ['b', 'orange', 'y']\n",
    "sim_line_colors = ['k', 'purple', 'r']\n",
    "\n",
    "for i, ax in enumerate(axs[:3]):\n",
    "    ax.plot(t, xk_val[:, i], color=colors[i])\n",
    "    ax.plot(t, x_sim[:, i], sim_line_colors[i], linestyle='--')\n",
    "    ax.set_ylabel(\"Rad\", fontsize=16)\n",
    "    ax.legend([labels[i][0], labels[i][1]], fontsize=14)\n",
    "    ax.grid()\n",
    "    ax.set_xlim(0, 20)\n",
    "    ax.tick_params(axis='both', labelsize=14)\n",
    "\n",
    "axs[3].plot(t, u_val(t), 'g--', alpha=0.7)\n",
    "axs[3].set_ylabel(\"Sterowanie\", fontsize=16)\n",
    "axs[3].set_xlabel(\"Czas [s]\", fontsize=16)\n",
    "axs[3].tick_params(axis='y')\n",
    "axs[3].grid()\n",
    "axs[3].tick_params(axis='both', labelsize=14)\n",
    "\n",
    "plt.tight_layout()\n",
    "plt.show()"
   ]
  }
 ],
 "metadata": {
  "kernelspec": {
   "display_name": "Python 3",
   "language": "python",
   "name": "python3"
  },
  "language_info": {
   "codemirror_mode": {
    "name": "ipython",
    "version": 3
   },
   "file_extension": ".py",
   "mimetype": "text/x-python",
   "name": "python",
   "nbconvert_exporter": "python",
   "pygments_lexer": "ipython3",
   "version": "3.11.4"
  }
 },
 "nbformat": 4,
 "nbformat_minor": 2
}
