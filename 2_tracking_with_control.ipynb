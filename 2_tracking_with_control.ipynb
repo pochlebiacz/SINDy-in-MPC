{
 "cells": [
  {
   "cell_type": "code",
   "execution_count": 25,
   "metadata": {},
   "outputs": [],
   "source": [
    "import numpy as np\n",
    "import pysindy as ps\n",
    "from pysindy.feature_library import PolynomialLibrary, FourierLibrary, CustomLibrary\n",
    "import matplotlib.pyplot as plt\n",
    "\n",
    "from generate_data import generate_tracking_data, generate_discrete_tracking_data\n",
    "from decimal import Decimal"
   ]
  },
  {
   "cell_type": "code",
   "execution_count": null,
   "metadata": {},
   "outputs": [],
   "source": [
    "T = 1e-1\n",
    "t = np.linspace(0, 20, 201)\n",
    "\n",
    "x0 = [-0.1, 0.2, -0.1]\n",
    "x0_val = [0.1, 0.1, 0]\n",
    "\n",
    "u = lambda t: 0.001*np.sin(t)\n",
    "u_val = lambda t: 0.001*np.cos(2*t)\n",
    "\n",
    "x, x_dot = generate_tracking_data(t=t, x0=x0, u=u)\n",
    "x_val, _ = generate_tracking_data(t=t, x0=x0_val, u=u_val)\n",
    "\n",
    "xk = generate_discrete_tracking_data(t=t, x0=x0, T=T, u=u(t))\n",
    "xk_val = generate_discrete_tracking_data(t=t, x0=x0_val, T=T, u=u_val(t))"
   ]
  },
  {
   "cell_type": "code",
   "execution_count": 13,
   "metadata": {},
   "outputs": [
    {
     "name": "stdout",
     "output_type": "stream",
     "text": [
      "(x1)' = -0.000001992 1 + -0.877241474 x1 + 0.000021483 x2 + 0.999919807 x3 + -0.216771283 u + 0.468616000 x1^2 + 0.001761271 x1 x2 + -0.088207510 x1 x3 + -0.014449547 x1 u + -0.019077320 x2^2 + 0.000591975 x2 x3 + 0.012952380 x2 u + 0.000134588 x3^2 + 0.001399896 x3 u + -0.023274069 u^2 + 3.843994544 x1^3 + 0.005037290 x1^2 x2 + -0.999944563 x1^2 x3 + 0.257149579 x1^2 u + -0.003210714 x1 x2^2 + 0.000773322 x1 x2 x3 + 0.052563882 x1 x2 u + 0.000331203 x1 x3^2 + 0.006345889 x1 x3 u + 0.351270367 x1 u^2 + 0.000092863 x2^3 + -0.001091315 x2^2 x3 + -0.023668116 x2^2 u + -0.000499270 x2 x3^2 + -0.005154240 x2 x3 u + 0.084648568 x2 u^2 + -0.000063007 x3^3 + 0.001659129 x3^2 u + -0.018279648 x3 u^2\n",
      "(x2)' = 1.000000000 x3 + -0.000000001 u + 0.000000001 x1 x2 + -0.000000005 x1 u + 0.000000007 x2 u + 0.000000001 x3 u + -0.000000010 u^2 + 0.000000001 x1^3 + 0.000000005 x1^2 u + -0.000000002 x1 x2^2 + 0.000000018 x1 x2 u + 0.000000002 x1 x3 u + 0.000000035 x1 u^2 + -0.000000012 x2^2 u + -0.000000001 x2 x3^2 + -0.000000004 x2 x3 u + 0.000000035 x2 u^2 + 0.000000003 x3^2 u + 0.000000003 x3 u^2\n",
      "(x3)' = -4.208000000 x1 + -0.396000000 x3 + -20.966999997 u + -0.469999998 x1^2 + -0.000000003 x1 x2 + 0.000000022 x1 u + -0.000000001 x2^2 + -0.000000001 x2 x3 + -0.000000019 x2 u + -0.000000002 x3 u + 0.000000045 u^2 + -3.563999999 x1^3 + -0.000000006 x1^2 x2 + 6.265000017 x1^2 u + 0.000000005 x1 x2^2 + -0.000000078 x1 x2 u + -0.000000001 x1 x3^2 + -0.000000007 x1 x3 u + 46.000000037 x1 u^2 + 0.000000001 x2^3 + 0.000000001 x2^2 x3 + 0.000000036 x2^2 u + 0.000000001 x2 x3^2 + 0.000000007 x2 x3 u + -0.000000161 x2 u^2 + -0.000000007 x3^2 u + -0.000000004 x3 u^2 + 61.100000312 u^3\n"
     ]
    }
   ],
   "source": [
    "model = ps.SINDy(\n",
    "    feature_library=PolynomialLibrary(degree=3), # 2, 1\n",
    "    # feature_library=FourierLibrary(n_frequencies=1), # 2, 1\n",
    "    optimizer=ps.STLSQ(threshold=1e-9), # 0.001, 0.01, 0.1\n",
    "    feature_names=[f'x{i+1}' for i in range(3)]+['u'],\n",
    "    # discrete_time=True\n",
    "    )\n",
    "model.fit(x=x, x_dot=x_dot, u=u(t))\n",
    "# model.fit(x=xk, u=u(t))\n",
    "model.print(precision=9)"
   ]
  },
  {
   "cell_type": "code",
   "execution_count": 9,
   "metadata": {},
   "outputs": [],
   "source": [
    "t = np.linspace(0, 200, 201)\n",
    "x0s = np.random.uniform(-0.1, 0.1, (500, 3))\n",
    "\n",
    "xss = []\n",
    "x_dots = []\n",
    "us = []\n",
    "\n",
    "for x0 in x0s:\n",
    "    u_val = lambda t: x0[0] / 100. * np.sin(t)\n",
    "    x, x_dot = generate_tracking_data(t=t, x0=x0, u=u_val)\n",
    "    xss.append(x)\n",
    "    x_dots.append(x_dot)\n",
    "    us.append(u_val(t))"
   ]
  },
  {
   "cell_type": "code",
   "execution_count": 14,
   "metadata": {},
   "outputs": [
    {
     "name": "stdout",
     "output_type": "stream",
     "text": [
      "(x1)' = -0.877000000 x1 + 1.000000000 x3 + -0.215000000 u + 0.470000000 x1^2 + -0.088000000 x1 x3 + -0.019000000 x2^2 + 3.846000000 x1^3 + -1.000000000 x1^2 x3 + 0.280000000 x1^2 u + 0.470000000 x1 u^2 + 0.630000001 u^3\n",
      "(x2)' = 1.000000000 x3\n",
      "(x3)' = -4.208000000 x1 + -0.396000000 x3 + -20.967000000 u + -0.470000000 x1^2 + -0.000000003 x1 u + -0.000000001 x2 u + -0.000000003 x3 u + 0.000000001 u^2 + -3.563999999 x1^3 + 6.265000000 x1^2 u + 0.000000001 x1 x2 x3 + 46.000000000 x1 u^2 + 61.100000000 u^3\n"
     ]
    }
   ],
   "source": [
    "model = ps.SINDy(\n",
    "    feature_library=PolynomialLibrary(degree=3), # 2, 1\n",
    "    # feature_library=FourierLibrary(n_frequencies=1), # 2, 1\n",
    "    optimizer=ps.STLSQ(threshold=1e-9), # 0.001, 0.01, 0.1\n",
    "    feature_names=[f'x{i+1}' for i in range(3)]+['u']\n",
    "    )\n",
    "model.fit(x=xss, x_dot=x_dots, u=us, multiple_trajectories=True)\n",
    "model.print(precision=9)"
   ]
  },
  {
   "cell_type": "code",
   "execution_count": null,
   "metadata": {},
   "outputs": [],
   "source": [
    "for x_num in range(len(x0)):\n",
    "    q = 'Biblioteka funkcji & Próg & $\\Dot{x}'\n",
    "    print(f'{q}_{x_num+1}$ & $E_{x_num+1}$ \\\\\\\\')\n",
    "    for i, library in enumerate([FourierLibrary(n_frequencies=2), FourierLibrary(n_frequencies=1), PolynomialLibrary(degree=3), PolynomialLibrary(degree=2), PolynomialLibrary(degree=1)]):\n",
    "        print(f'\\\\hline')\n",
    "        for threshold in range(3):\n",
    "            threshold = 10**(threshold-10) if i >= 2 else 100*10**(threshold-10)\n",
    "            # threshold = T * threshold\n",
    "            name = ['Trygonometryczna (st. 2)', 'Trygonometryczna (st. 1)', 'Wielomiany (st. 3)', 'Wielomiany (st. 2)', 'Liniowa']\n",
    "            model = ps.SINDy(\n",
    "                feature_library=library,\n",
    "                optimizer=ps.STLSQ(threshold=threshold),\n",
    "                feature_names=[f'x{i+1}' for i in range(len(x0))]+['u'],\n",
    "                # discrete_time=True\n",
    "                )\n",
    "            # model.fit(x=xk, u=u(t))\n",
    "            model.fit(x=x, x_dot=x_dot, u=u(t))\n",
    "            try:\n",
    "                x_sim = model.simulate(x0=x0_val, t=t, u=u_val)\n",
    "                # x_sim = model.simulate(x0=x0_val, t=201, u=u_val(t))\n",
    "                mse = ((x_sim - x_val)**2).mean(axis=0)\n",
    "                E = '%.3E' % Decimal(str(mse[x_num]))\n",
    "            except:\n",
    "                E = '\\infty'\n",
    "            coeffs = ' + '.join(['%.3E' % Decimal(str(coeff))+' '+model.get_feature_names()[i] for i, coeff in enumerate(model.coefficients()[x_num]) if abs(model.coefficients()[x_num][i]) > threshold])\n",
    "            if len(coeffs.split(' + ')) > 2:\n",
    "                eq = (coeffs.split(' + ')[0] + ' + ' + coeffs.split(' + ')[1] + '\\dots').replace(' 1 +', ' +')\n",
    "            else:\n",
    "                eq = coeffs\n",
    "            if len(coeffs) == 0:\n",
    "                eq = '0,000'\n",
    "            eq = eq.replace(' 1 +', ' +').replace('.', ',').replace('+ -', '- ').replace('sin', '\\sin').replace('cos', '\\cos').replace('(1 x1)', '(x_1)').replace('(1 x2)', '(x_2)').replace('x2', 'x_2').replace('(1 x3)', '(x_3)').replace('x3', 'x_3').replace('x1', 'x_1').replace('(1 u)', '(u)')\n",
    "            thr = '%.0E' % Decimal(str(threshold))\n",
    "            for pow in range(1, 10):\n",
    "                eq = eq.replace('E+00', '')\n",
    "                E = E.replace('E+00', '')\n",
    "                eq = eq.replace(f'E+0{pow}', f'\\cdot 10^{pow}').replace(f'E-0{pow}', '\\cdot 10^{'+f'{-pow}'+'}')\n",
    "                E = E.replace(f'E+0{pow}', f'\\cdot 10^{pow}').replace(f'E-0{pow}', '\\cdot 10^{'+f'{-pow}'+'}')\n",
    "                thr = thr.replace(f'1E+0{pow}', f'10^{pow}').replace(f'1E-0{pow}', '10^{'+f'{-pow}'+'}')\n",
    "            print(f\"{name[i]} & ${thr}$ & ${eq}$ & ${E.replace('.', ',')}$ \\\\\\\\\")\n",
    "    print('\\n\\n')"
   ]
  },
  {
   "cell_type": "code",
   "execution_count": null,
   "metadata": {},
   "outputs": [],
   "source": [
    "# x_sim = model.simulate(x0=x0_val, t=t, u=u_val)\n",
    "# mse = ((x_sim - x_val)**2).mean(axis=0)\n",
    "# print(f'Błąd średniokwadratowy x1: {mse[0]}, x2: {mse[1]}, x3: {mse[2]}')"
   ]
  },
  {
   "cell_type": "code",
   "execution_count": null,
   "metadata": {},
   "outputs": [],
   "source": [
    "plt.plot(t, x_val[:, 0])\n",
    "plt.plot(t, x_val[:, 1])\n",
    "plt.plot(t, x_val[:, 2], 'y')\n",
    "plt.grid()\n",
    "plt.legend([\"Kąt natarcia\", \"Kąt nachylenia\", \"Współczynnik nachylenia\"])\n",
    "plt.xlim(0, max(t))\n",
    "plt.xlabel(\"Czas [dni]\")\n",
    "ax1 = plt.gca()\n",
    "ax2 = ax1.twinx()\n",
    "ax2.spines['right'].set_color('green')\n",
    "ax2.yaxis.label.set_color('green')\n",
    "ax2.tick_params(axis='y', colors='green')\n",
    "ax2.plot(t, u_val(t), 'g--', alpha=0.4)\n",
    "ax2.set_ylabel(\"Sterowanie\")\n",
    "ax2.set_ylim(0, 0.003)\n",
    "ax1.set_ylabel(\"Kąt [Rad]\")\n",
    "ax2.set_ylabel(\"Sterowanie\")\n",
    "plt.show()"
   ]
  }
 ],
 "metadata": {
  "kernelspec": {
   "display_name": "Python 3",
   "language": "python",
   "name": "python3"
  },
  "language_info": {
   "codemirror_mode": {
    "name": "ipython",
    "version": 3
   },
   "file_extension": ".py",
   "mimetype": "text/x-python",
   "name": "python",
   "nbconvert_exporter": "python",
   "pygments_lexer": "ipython3",
   "version": "3.11.4"
  }
 },
 "nbformat": 4,
 "nbformat_minor": 2
}
