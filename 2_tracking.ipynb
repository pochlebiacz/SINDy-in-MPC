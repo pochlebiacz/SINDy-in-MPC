{
 "cells": [
  {
   "cell_type": "code",
   "execution_count": 1,
   "metadata": {},
   "outputs": [],
   "source": [
    "import numpy as np\n",
    "import pysindy as ps\n",
    "from pysindy.feature_library import PolynomialLibrary, FourierLibrary, CustomLibrary\n",
    "import matplotlib.pyplot as plt\n",
    "\n",
    "from generate_data import generate_tracking_data, generate_discrete_tracking_data\n",
    "from decimal import Decimal"
   ]
  },
  {
   "cell_type": "code",
   "execution_count": 2,
   "metadata": {},
   "outputs": [],
   "source": [
    "T = 1e-1\n",
    "t = np.linspace(0, 20, 201)\n",
    "x0 = [-0.1, 0.2, -0.1]\n",
    "x0_val = [0.1, 0.1, 0]\n",
    "\n",
    "x, x_dot = generate_tracking_data(t=t, x0=x0)\n",
    "x_val, _ = generate_tracking_data(t=t, x0=x0_val)\n",
    "\n",
    "xk = generate_discrete_tracking_data(t=t, x0=x0, T=T)\n",
    "xk_val = generate_discrete_tracking_data(t=t, x0=x0_val, T=T)"
   ]
  },
  {
   "cell_type": "code",
   "execution_count": 7,
   "metadata": {},
   "outputs": [
    {
     "name": "stdout",
     "output_type": "stream",
     "text": [
      "(x1)[k+1] = 0.9123 x1[k] + 0.1000 x3[k] + 0.0470 x1[k]^2 + -0.0088 x1[k] x3[k] + -0.0019 x2[k]^2 + 0.3846 x1[k]^3 + -0.1000 x1[k]^2 x3[k]\n",
      "(x2)[k+1] = 1.0000 x2[k] + 0.1000 x3[k]\n",
      "(x3)[k+1] = -0.4208 x1[k] + 0.9604 x3[k] + -0.0470 x1[k]^2 + -0.3564 x1[k]^3\n"
     ]
    }
   ],
   "source": [
    "pr = int(3 - np.log10(T))\n",
    "model = ps.SINDy(\n",
    "    feature_library=PolynomialLibrary(degree=3), # 2, 1\n",
    "    # feature_library=FourierLibrary(n_frequencies=1), # 2, 1\n",
    "    optimizer=ps.STLSQ(threshold=0.0001), # 0.001, 0.01, 0.1\n",
    "    feature_names=[f'x{i+1}' for i in range(len(x[0]))],\n",
    "    discrete_time=True\n",
    "    )\n",
    "model.fit(x=xk)\n",
    "model.print(precision=pr)"
   ]
  },
  {
   "cell_type": "code",
   "execution_count": 9,
   "metadata": {},
   "outputs": [
    {
     "name": "stdout",
     "output_type": "stream",
     "text": [
      "Biblioteka funkcji & Próg & $\\Dot{x}_1$ & $E_1$ \\\\\n",
      "\\hline\n",
      "Trygonometryczna (st. 2) & 0,001 & $1,813 \\sin(x_1) - 6,217 \\cos(x_1)\\dots$ & $1,087\\cdot 10^{-4}$ \\\\\n",
      "Trygonometryczna (st. 2) & 0,010000000000000002 & $1,220 \\sin(x_1) + 7,758\\cdot 10^{-1} \\sin(x_2)\\dots$ & $4,275\\cdot 10^{-5}$ \\\\\n",
      "Trygonometryczna (st. 2) & 0,1 & $9,591 \\sin(x_1) - 4,347 \\sin(2 x_1)$ & $4,353\\cdot 10^{-4}$ \\\\\n",
      "\\hline\n",
      "Trygonometryczna (st. 1) & 0,001 & $9,150\\cdot 10^{-1} \\sin(x_1) + 1,290\\cdot 10^{-2} \\cos(x_1)\\dots$ & $3,029\\cdot 10^{-4}$ \\\\\n",
      "Trygonometryczna (st. 1) & 0,010000000000000002 & $9,147\\cdot 10^{-1} \\sin(x_1) + 9,999\\cdot 10^{-2} \\sin(1 x3)$ & $6,452\\cdot 10^{-7}$ \\\\\n",
      "Trygonometryczna (st. 1) & 0,1 & $9,220\\cdot 10^{-1} \\sin(x_1)$ & $4,484\\cdot 10^{-4}$ \\\\\n",
      "\\hline\n",
      "Wielomiany (st. 3) & 1e-05 & $9,123\\cdot 10^{-1} x_1 + 1,000\\cdot 10^{-1} x3\\dots$ & $7,176E-26$ \\\\\n",
      "Wielomiany (st. 3) & 0,0001 & $9,123\\cdot 10^{-1} x_1 + 1,000\\cdot 10^{-1} x3\\dots$ & $7,176E-26$ \\\\\n",
      "Wielomiany (st. 3) & 0,001 & $-1,494\\cdot 10^{-3} + 8,781\\cdot 10^{-1} x_1\\dots$ & $8,454\\cdot 10^{-6}$ \\\\\n",
      "\\hline\n",
      "Wielomiany (st. 2) & 1e-05 & $4,074\\cdot 10^{-3} + 1,052 x_1\\dots$ & $\\infty$ \\\\\n",
      "Wielomiany (st. 2) & 0,0001 & $4,074\\cdot 10^{-3} + 1,052 x_1\\dots$ & $\\infty$ \\\\\n"
     ]
    },
    {
     "name": "stderr",
     "output_type": "stream",
     "text": [
      "c:\\Users\\ASamek.ERP\\AppData\\Local\\Programs\\Python\\Python311\\Lib\\site-packages\\pysindy\\utils\\axes.py:83: RuntimeWarning: overflow encountered in reduce\n",
      "  results = super().__array_ufunc__(ufunc, method, *args, **kwargs)\n",
      "c:\\Users\\ASamek.ERP\\AppData\\Local\\Programs\\Python\\Python311\\Lib\\site-packages\\numpy\\core\\fromnumeric.py:86: RuntimeWarning: invalid value encountered in reduce\n",
      "  return ufunc.reduce(obj, axis, dtype, out, **passkwargs)\n",
      "c:\\Users\\ASamek.ERP\\AppData\\Local\\Programs\\Python\\Python311\\Lib\\site-packages\\pysindy\\utils\\axes.py:83: RuntimeWarning: overflow encountered in reduce\n",
      "  results = super().__array_ufunc__(ufunc, method, *args, **kwargs)\n",
      "c:\\Users\\ASamek.ERP\\AppData\\Local\\Programs\\Python\\Python311\\Lib\\site-packages\\numpy\\core\\fromnumeric.py:86: RuntimeWarning: invalid value encountered in reduce\n",
      "  return ufunc.reduce(obj, axis, dtype, out, **passkwargs)\n"
     ]
    },
    {
     "name": "stdout",
     "output_type": "stream",
     "text": [
      "Wielomiany (st. 2) & 0,001 & $4,074\\cdot 10^{-3} + 1,052 x_1\\dots$ & $1,518\\cdot 10^{-3}$ \\\\\n",
      "\\hline\n",
      "Liniowa & 1e-05 & $6,678\\cdot 10^{-4} + 9,140\\cdot 10^{-1} x_1\\dots$ & $8,723\\cdot 10^{-7}$ \\\\\n",
      "Liniowa & 0,0001 & $6,678\\cdot 10^{-4} + 9,140\\cdot 10^{-1} x_1\\dots$ & $8,723\\cdot 10^{-7}$ \\\\\n",
      "Liniowa & 0,001 & $9,140\\cdot 10^{-1} x_1 - 2,854\\cdot 10^{-3} x_2\\dots$ & $8,723\\cdot 10^{-7}$ \\\\\n",
      "\n",
      "\n",
      "\n",
      "Biblioteka funkcji & Próg & $\\Dot{x}_2$ & $E_2$ \\\\\n",
      "\\hline\n",
      "Trygonometryczna (st. 2) & 0,001 & $-2,544\\cdot 10^{-3} \\sin(x_1) + 1,563\\cdot 10^{-1} \\cos(x_1)\\dots$ & $1,201\\cdot 10^{-2}$ \\\\\n",
      "Trygonometryczna (st. 2) & 0,010000000000000002 & $6,921\\cdot 10^{-2} \\sin(x_1) + 4,461 \\cos(x_1)\\dots$ & $1,355\\cdot 10^{-2}$ \\\\\n",
      "Trygonometryczna (st. 2) & 0,1 & $5,450\\cdot 10^{-1} \\sin(x_2) + 2,450\\cdot 10^{-1} \\sin(2 x_2)$ & $7,021\\cdot 10^{-2}$ \\\\\n",
      "\\hline\n",
      "Trygonometryczna (st. 1) & 0,001 & $-1,791\\cdot 10^{-2} \\cos(x_1) + 1,033 \\sin(x_2)\\dots$ & $2,471\\cdot 10^{-1}$ \\\\\n",
      "Trygonometryczna (st. 1) & 0,010000000000000002 & $-1,791\\cdot 10^{-2} \\cos(x_1) + 1,033 \\sin(x_2)\\dots$ & $2,202\\cdot 10^{-1}$ \\\\\n",
      "Trygonometryczna (st. 1) & 0,1 & $1,015 \\sin(x_2)$ & $5,625\\cdot 10^{-2}$ \\\\\n",
      "\\hline\n",
      "Wielomiany (st. 3) & 1e-05 & $1,000 x_2 + 1,000\\cdot 10^{-1} x3$ & $9,970E-21$ \\\\\n",
      "Wielomiany (st. 3) & 0,0001 & $1,000 x_2 + 1,000\\cdot 10^{-1} x3$ & $9,970E-21$ \\\\\n",
      "Wielomiany (st. 3) & 0,001 & $2,186\\cdot 10^{-2} - 2,957\\cdot 10^{-1} x_1\\dots$ & $4,671\\cdot 10^{-2}$ \\\\\n",
      "\\hline\n",
      "Wielomiany (st. 2) & 1e-05 & $1,000 x_2 + 1,000\\cdot 10^{-1} x3$ & $\\infty$ \\\\\n",
      "Wielomiany (st. 2) & 0,0001 & $1,000 x_2 + 1,000\\cdot 10^{-1} x3$ & $\\infty$ \\\\\n",
      "Wielomiany (st. 2) & 0,001 & $1,612\\cdot 10^{-2} - 3,625\\cdot 10^{-1} x_1\\dots$ & $6,441\\cdot 10^{-2}$ \\\\\n",
      "\\hline\n",
      "Liniowa & 1e-05 & $1,000 x_2 + 1,000\\cdot 10^{-1} x3$ & $9,679\\cdot 10^{-3}$ \\\\\n",
      "Liniowa & 0,0001 & $1,000 x_2 + 1,000\\cdot 10^{-1} x3$ & $9,679\\cdot 10^{-3}$ \\\\\n"
     ]
    },
    {
     "name": "stderr",
     "output_type": "stream",
     "text": [
      "c:\\Users\\ASamek.ERP\\AppData\\Local\\Programs\\Python\\Python311\\Lib\\site-packages\\pysindy\\utils\\axes.py:83: RuntimeWarning: overflow encountered in reduce\n",
      "  results = super().__array_ufunc__(ufunc, method, *args, **kwargs)\n",
      "c:\\Users\\ASamek.ERP\\AppData\\Local\\Programs\\Python\\Python311\\Lib\\site-packages\\numpy\\core\\fromnumeric.py:86: RuntimeWarning: invalid value encountered in reduce\n",
      "  return ufunc.reduce(obj, axis, dtype, out, **passkwargs)\n",
      "c:\\Users\\ASamek.ERP\\AppData\\Local\\Programs\\Python\\Python311\\Lib\\site-packages\\pysindy\\utils\\axes.py:83: RuntimeWarning: overflow encountered in reduce\n",
      "  results = super().__array_ufunc__(ufunc, method, *args, **kwargs)\n",
      "c:\\Users\\ASamek.ERP\\AppData\\Local\\Programs\\Python\\Python311\\Lib\\site-packages\\numpy\\core\\fromnumeric.py:86: RuntimeWarning: invalid value encountered in reduce\n",
      "  return ufunc.reduce(obj, axis, dtype, out, **passkwargs)\n"
     ]
    },
    {
     "name": "stdout",
     "output_type": "stream",
     "text": [
      "Liniowa & 0,001 & $1,000 x_2 + 1,000\\cdot 10^{-1} x3$ & $9,679\\cdot 10^{-3}$ \\\\\n",
      "\n",
      "\n",
      "\n",
      "Biblioteka funkcji & Próg & $\\Dot{x}_3$ & $E_3$ \\\\\n",
      "\\hline\n",
      "Trygonometryczna (st. 2) & 0,001 & $-1,275 \\sin(x_1) - 2,557\\cdot 10^{-2} \\cos(x_1)\\dots$ & $6,375\\cdot 10^{-4}$ \\\\\n",
      "Trygonometryczna (st. 2) & 0,010000000000000002 & $-4,252\\cdot 10^{-1} \\sin(x_1) - 6,453\\cdot 10^{-1} \\sin(x_2)\\dots$ & $3,273\\cdot 10^{-4}$ \\\\\n",
      "Trygonometryczna (st. 2) & 0,1 & $7,191 \\sin(1 x3) - 3,141 \\sin(2 x3)$ & $1,273\\cdot 10^{-3}$ \\\\\n",
      "\\hline\n",
      "Trygonometryczna (st. 1) & 0,001 & $-4,234\\cdot 10^{-1} \\sin(x_1) + 5,272\\cdot 10^{-2} \\cos(x_1)\\dots$ & $2,154\\cdot 10^{-3}$ \\\\\n",
      "Trygonometryczna (st. 1) & 0,010000000000000002 & $-4,220\\cdot 10^{-1} \\sin(x_1) + 9,624\\cdot 10^{-1} \\sin(1 x3)$ & $2,680\\cdot 10^{-4}$ \\\\\n",
      "Trygonometryczna (st. 1) & 0,1 & $-4,212\\cdot 10^{-1} \\sin(x_1) + 9,621\\cdot 10^{-1} \\sin(1 x3)$ & $1,022\\cdot 10^{-2}$ \\\\\n",
      "\\hline\n",
      "Wielomiany (st. 3) & 1e-05 & $-4,208\\cdot 10^{-1} x_1 + 9,604\\cdot 10^{-1} x3\\dots$ & $3,168E-25$ \\\\\n",
      "Wielomiany (st. 3) & 0,0001 & $-4,208\\cdot 10^{-1} x_1 + 9,604\\cdot 10^{-1} x3\\dots$ & $3,168E-25$ \\\\\n",
      "Wielomiany (st. 3) & 0,001 & $6,166\\cdot 10^{-3} - 4,307\\cdot 10^{-1} x_1\\dots$ & $3,450\\cdot 10^{-5}$ \\\\\n",
      "\\hline\n",
      "Wielomiany (st. 2) & 1e-05 & $-5,582\\cdot 10^{-3} - 5,720\\cdot 10^{-1} x_1\\dots$ & $\\infty$ \\\\\n",
      "Wielomiany (st. 2) & 0,0001 & $-5,582\\cdot 10^{-3} - 5,720\\cdot 10^{-1} x_1\\dots$ & $\\infty$ \\\\\n",
      "Wielomiany (st. 2) & 0,001 & $-5,582\\cdot 10^{-3} - 5,720\\cdot 10^{-1} x_1\\dots$ & $9,647\\cdot 10^{-3}$ \\\\\n",
      "\\hline\n",
      "Liniowa & 1e-05 & $-5,874\\cdot 10^{-4} - 4,227\\cdot 10^{-1} x_1\\dots$ & $9,471\\cdot 10^{-5}$ \\\\\n",
      "Liniowa & 0,0001 & $-5,874\\cdot 10^{-4} - 4,227\\cdot 10^{-1} x_1\\dots$ & $9,471\\cdot 10^{-5}$ \\\\\n",
      "Liniowa & 0,001 & $-4,227\\cdot 10^{-1} x_1 + 2,026\\cdot 10^{-3} x_2\\dots$ & $9,471\\cdot 10^{-5}$ \\\\\n",
      "\n",
      "\n",
      "\n"
     ]
    },
    {
     "name": "stderr",
     "output_type": "stream",
     "text": [
      "c:\\Users\\ASamek.ERP\\AppData\\Local\\Programs\\Python\\Python311\\Lib\\site-packages\\pysindy\\utils\\axes.py:83: RuntimeWarning: overflow encountered in reduce\n",
      "  results = super().__array_ufunc__(ufunc, method, *args, **kwargs)\n",
      "c:\\Users\\ASamek.ERP\\AppData\\Local\\Programs\\Python\\Python311\\Lib\\site-packages\\numpy\\core\\fromnumeric.py:86: RuntimeWarning: invalid value encountered in reduce\n",
      "  return ufunc.reduce(obj, axis, dtype, out, **passkwargs)\n",
      "c:\\Users\\ASamek.ERP\\AppData\\Local\\Programs\\Python\\Python311\\Lib\\site-packages\\pysindy\\utils\\axes.py:83: RuntimeWarning: overflow encountered in reduce\n",
      "  results = super().__array_ufunc__(ufunc, method, *args, **kwargs)\n",
      "c:\\Users\\ASamek.ERP\\AppData\\Local\\Programs\\Python\\Python311\\Lib\\site-packages\\numpy\\core\\fromnumeric.py:86: RuntimeWarning: invalid value encountered in reduce\n",
      "  return ufunc.reduce(obj, axis, dtype, out, **passkwargs)\n"
     ]
    }
   ],
   "source": [
    "for x_num in range(len(x0)):\n",
    "    q = 'Biblioteka funkcji & Próg & $\\Dot{x}'\n",
    "    print(f'{q}_{x_num+1}$ & $E_{x_num+1}$ \\\\\\\\')\n",
    "    for i, library in enumerate([FourierLibrary(n_frequencies=2), FourierLibrary(n_frequencies=1), PolynomialLibrary(degree=3), PolynomialLibrary(degree=2), PolynomialLibrary(degree=1)]):\n",
    "        print(f'\\\\hline')\n",
    "        for threshold in range(3):\n",
    "            threshold = 10**(threshold-4) if i >= 2 else 100*10**(threshold-4)\n",
    "            threshold = T * threshold\n",
    "            name = ['Trygonometryczna (st. 2)', 'Trygonometryczna (st. 1)', 'Wielomiany (st. 3)', 'Wielomiany (st. 2)', 'Liniowa']\n",
    "            model = ps.SINDy(\n",
    "                feature_library=library,\n",
    "                optimizer=ps.STLSQ(threshold=threshold),\n",
    "                feature_names=[f'x{i+1}' for i in range(len(x0))],\n",
    "                discrete_time=True\n",
    "                )\n",
    "            model.fit(x=xk)\n",
    "            try:\n",
    "                x_sim = model.simulate(x0=x0_val, t=201)\n",
    "                mse = ((x_sim - xk_val)**2).mean(axis=0)\n",
    "                E = '%.3E' % Decimal(str(mse[x_num]))\n",
    "            except:\n",
    "                E = '\\infty'\n",
    "            coeffs = ' + '.join(['%.3E' % Decimal(str(coeff))+' '+model.get_feature_names()[i] for i, coeff in enumerate(model.coefficients()[x_num]) if abs(model.coefficients()[x_num][i]) > threshold])\n",
    "            if len(coeffs.split(' + ')) > 2:\n",
    "                eq = (coeffs.split(' + ')[0] + ' + ' + coeffs.split(' + ')[1] + '\\dots').replace(' 1 +', ' +')\n",
    "            else:\n",
    "                eq = coeffs\n",
    "            if len(coeffs) == 0:\n",
    "                eq = '0,000'\n",
    "            eq = eq.replace(' 1 +', ' +').replace('.', ',').replace('+ -', '- ').replace('sin', '\\sin').replace('cos', '\\cos').replace('(1 x1)', '(x_1)').replace('(1 x2)', '(x_2)').replace('x2', 'x_2').replace('(1 x3)', '(x_3)').replace('x3', 'x_3').replace('x1', 'x_1').replace('(1 u)', '(u)')\n",
    "            for pow in range(1, 10):\n",
    "                eq = eq.replace('E+00', '')\n",
    "                E = E.replace('E+00', '')\n",
    "                eq = eq.replace(f'E+0{pow}', f'\\cdot 10^{pow}').replace(f'E-0{pow}', '\\cdot 10^{'+f'{-pow}'+'}')\n",
    "                E = E.replace(f'E+0{pow}', f'\\cdot 10^{pow}').replace(f'E-0{pow}', '\\cdot 10^{'+f'{-pow}'+'}')\n",
    "            print(f\"{name[i]} & {(str(threshold).replace('.', ',') + ' &').replace(',0 &', ' &')} ${eq}$ & ${E.replace('.', ',')}$ \\\\\\\\\")\n",
    "    print('\\n\\n')"
   ]
  },
  {
   "cell_type": "code",
   "execution_count": null,
   "metadata": {},
   "outputs": [],
   "source": [
    "x_sim = model.simulate(x0=x0_val, t=t)\n",
    "mse = ((x_sim - x_val)**2).mean(axis=0)\n",
    "print(f'Błąd średniokwadratowy x1: {mse[0]}, x2: {mse[1]}, x3: {mse[2]}')"
   ]
  },
  {
   "cell_type": "code",
   "execution_count": null,
   "metadata": {},
   "outputs": [],
   "source": [
    "plt.plot(t, x_val[:, 0])\n",
    "plt.plot(t, x_val[:, 1])\n",
    "plt.plot(t, x_val[:, 2], 'y')\n",
    "plt.legend([\"Kąt natarcia\", \"Kąt nachylenia\", \"Współczynnik nachylenia\"])\n",
    "plt.xlim(0, max(t))\n",
    "plt.xlabel(\"Czas [s]\")\n",
    "plt.ylabel(\"Rad\")\n",
    "\n",
    "plt.grid()\n",
    "plt.show()"
   ]
  }
 ],
 "metadata": {
  "kernelspec": {
   "display_name": "Python 3",
   "language": "python",
   "name": "python3"
  },
  "language_info": {
   "codemirror_mode": {
    "name": "ipython",
    "version": 3
   },
   "file_extension": ".py",
   "mimetype": "text/x-python",
   "name": "python",
   "nbconvert_exporter": "python",
   "pygments_lexer": "ipython3",
   "version": "3.11.4"
  }
 },
 "nbformat": 4,
 "nbformat_minor": 2
}
