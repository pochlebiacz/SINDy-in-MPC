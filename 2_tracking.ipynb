{
 "cells": [
  {
   "cell_type": "code",
   "execution_count": null,
   "metadata": {},
   "outputs": [],
   "source": [
    "import numpy as np\n",
    "import pysindy as ps\n",
    "from pysindy.feature_library import PolynomialLibrary, FourierLibrary\n",
    "import matplotlib.pyplot as plt\n",
    "\n",
    "from generate_data import generate_tracking_data, generate_discrete_tracking_data"
   ]
  },
  {
   "cell_type": "code",
   "execution_count": null,
   "metadata": {},
   "outputs": [],
   "source": [
    "T = 1e-1\n",
    "t = np.linspace(0, 20, 201)\n",
    "x0 = [-0.1, 0.2, -0.1]\n",
    "x0_val = [0.1, 0.1, 0]\n",
    "\n",
    "x, x_dot = generate_tracking_data(t=t, x0=x0)\n",
    "x_val, _ = generate_tracking_data(t=t, x0=x0_val)\n",
    "\n",
    "xk = generate_discrete_tracking_data(t=t, x0=x0, T=T)\n",
    "xk_val = generate_discrete_tracking_data(t=t, x0=x0_val, T=T)"
   ]
  },
  {
   "cell_type": "code",
   "execution_count": null,
   "metadata": {},
   "outputs": [],
   "source": [
    "pr = int(3 - np.log10(T))\n",
    "model = ps.SINDy(\n",
    "    feature_library=PolynomialLibrary(degree=3),\n",
    "    # feature_library=FourierLibrary(n_frequencies=1),\n",
    "    optimizer=ps.STLSQ(threshold=0.0001),\n",
    "    feature_names=[f'x{i+1}' for i in range(len(x[0]))],\n",
    "    discrete_time=True\n",
    "    )\n",
    "model.fit(x=xk)\n",
    "# model.fit(x=x, t=t, x_dot=x_dot)\n",
    "model.print(precision=pr)"
   ]
  },
  {
   "cell_type": "code",
   "execution_count": null,
   "metadata": {},
   "outputs": [],
   "source": [
    "x_sim = model.simulate(x0=x0_val, t=len(t))\n",
    "mse = ((x_sim - xk_val)**2).mean(axis=0)\n",
    "print(f'Błąd średniokwadratowy x1: {mse[0]}, x2: {mse[1]}, x3: {mse[2]}')"
   ]
  },
  {
   "cell_type": "code",
   "execution_count": null,
   "metadata": {},
   "outputs": [],
   "source": [
    "fig, axs = plt.subplots(3, 1, figsize=(10, 8), sharex=True)\n",
    "\n",
    "labels = [\n",
    "    (\"Kąt natarcia\", \"Model kąt natarcia\"),\n",
    "    (\"Kąt nachylenia\", \"Model kąta nachylenia\"),\n",
    "    (\"Współczynnik nachylenia\", \"Model współczynnika nachylenia\")]\n",
    "\n",
    "for i in range(3):\n",
    "    axs[i].plot(t, xk_val[:, i], label=labels[i][0], color=f\"C{2*i}\")\n",
    "    axs[i].plot(t, x_sim[:, i], '--', label=labels[i][1], color=f\"C{2*i+1}\")\n",
    "    axs[i].legend(fontsize=14)\n",
    "    axs[i].set_ylabel(\"Rad\", fontsize=16)\n",
    "    axs[i].grid()\n",
    "    axs[i].set_xlim(0, 20)\n",
    "    axs[i].tick_params(axis='both', labelsize=14)\n",
    "\n",
    "axs[2].set_xlabel(\"Czas [s]\", fontsize=16)\n",
    "plt.tight_layout()\n",
    "plt.show()"
   ]
  }
 ],
 "metadata": {
  "kernelspec": {
   "display_name": "Python 3",
   "language": "python",
   "name": "python3"
  },
  "language_info": {
   "codemirror_mode": {
    "name": "ipython",
    "version": 3
   },
   "file_extension": ".py",
   "mimetype": "text/x-python",
   "name": "python",
   "nbconvert_exporter": "python",
   "pygments_lexer": "ipython3",
   "version": "3.11.4"
  }
 },
 "nbformat": 4,
 "nbformat_minor": 2
}
